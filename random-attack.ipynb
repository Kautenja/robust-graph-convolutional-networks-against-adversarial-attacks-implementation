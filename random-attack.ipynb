{
 "cells": [
  {
   "cell_type": "markdown",
   "metadata": {},
   "source": [
    "#### Global & Local Modules"
   ]
  },
  {
   "cell_type": "code",
   "execution_count": 1,
   "metadata": {},
   "outputs": [
    {
     "name": "stderr",
     "output_type": "stream",
     "text": [
      "Using TensorFlow backend.\n"
     ]
    }
   ],
   "source": [
    "import os\n",
    "from itertools import permutations \n",
    "import sys\n",
    "import numpy as np\n",
    "import scipy.sparse as sp\n",
    "from tqdm import tqdm\n",
    "from keras.callbacks import EarlyStopping\n",
    "from keras.layers import Input, Dropout\n",
    "from keras.models import Model\n",
    "from keras.optimizers import Adam\n",
    "from keras.regularizers import l2\n",
    "from rgcn import GaussianGraphConvolution, kl_reg"
   ]
  },
  {
   "cell_type": "markdown",
   "metadata": {},
   "source": [
    "#### Vendor Modules"
   ]
  },
  {
   "cell_type": "code",
   "execution_count": 2,
   "metadata": {},
   "outputs": [],
   "source": [
    "# the path of execution\n",
    "EXE_PATH = os.path.abspath(os.path.curdir)\n",
    "# the path of the vendor files\n",
    "VENDOR_PATH = os.path.join(EXE_PATH, 'vendor')\n",
    "# the vendors to include in the system path\n",
    "VENDORS = ['keras-gcn']\n",
    "# create the absolute paths for all vendors\n",
    "VENDORS = list(map(lambda x: os.path.join(VENDOR_PATH, x), VENDORS))\n",
    "# update the Python path to include necessary vendor module\n",
    "sys.path += VENDORS\n",
    "# import vendor modules\n",
    "from kegra.layers.graph import GraphConvolution\n",
    "from kegra.utils import load_data, preprocess_adj, get_splits, evaluate_preds"
   ]
  },
  {
   "cell_type": "markdown",
   "metadata": {},
   "source": [
    "# Data"
   ]
  },
  {
   "cell_type": "code",
   "execution_count": 3,
   "metadata": {},
   "outputs": [],
   "source": [
    "def attack_edges(attack_ratio: float) -> 'callable':\n",
    "    \"\"\"\n",
    "    Create an edge attack function with given attack ratio.\n",
    "\n",
    "    Args:\n",
    "        attack_ratio: the ratio of noise to clean edges\n",
    "\n",
    "    Returns:\n",
    "        a callable function for attacking a graph\n",
    "\n",
    "    \"\"\"\n",
    "    def _attack_edges(edges: np.ndarray) -> np.ndarray:\n",
    "        f\"\"\"\n",
    "        Attack the edges of the given list of edges.\n",
    "\n",
    "        Args:\n",
    "            edges: the ndarray of tuples representing edges to attack\n",
    "\n",
    "        Returns:\n",
    "            a new ndarray of edges with random edges added\n",
    "\n",
    "        Note:\n",
    "            the ratio of noise to clean edges is {attack_ratio}\n",
    "\n",
    "        \"\"\"\n",
    "        # create the set of all possible edges\n",
    "        all_edges = set(permutations(list(range(edges.max())), 2))\n",
    "        # convert the ndarray of edges to a set of tuples\n",
    "        edges = set(map(tuple, edges))\n",
    "        # create the set of edges to sample by subtracting the existing\n",
    "        # edges from the set of possible edges\n",
    "        sample_edges = all_edges - edges\n",
    "        # select random edges without replacement based on the noise ratio\n",
    "        attack_edges = np.random.choice(list(range(len(sample_edges))), \n",
    "            size=int(len(edges) * attack_ratio), \n",
    "            replace=False)\n",
    "        attack_edges = [edge for (i, edge) in enumerate(list(sample_edges)) if i in attack_edges]\n",
    "        # create the new ndarray of edges with the attack edges added\n",
    "        edges = list(edges) + attack_edges\n",
    "        return np.array(edges)\n",
    "    return _attack_edges"
   ]
  },
  {
   "cell_type": "code",
   "execution_count": 4,
   "metadata": {},
   "outputs": [],
   "source": [
    "X, A, y = load_data('data/cora/', dataset='cora', attack_edges=attack_edges(0))\n",
    "X /= X.sum(1).reshape(-1, 1)\n",
    "A = preprocess_adj(A)\n",
    "y_train, y_val, y_test, idx_train, idx_val, idx_test, train_mask, val_mask, test_mask = get_splits(y)"
   ]
  },
  {
   "cell_type": "code",
   "execution_count": 5,
   "metadata": {},
   "outputs": [
    {
     "data": {
      "text/plain": [
       "matrix([[0., 0., 0., ..., 0., 0., 0.],\n",
       "        [0., 0., 0., ..., 0., 0., 0.],\n",
       "        [0., 0., 0., ..., 0., 0., 0.],\n",
       "        ...,\n",
       "        [0., 0., 0., ..., 0., 0., 0.],\n",
       "        [0., 0., 0., ..., 0., 0., 0.],\n",
       "        [0., 0., 0., ..., 0., 0., 0.]], dtype=float32)"
      ]
     },
     "execution_count": 5,
     "metadata": {},
     "output_type": "execute_result"
    }
   ],
   "source": [
    "X"
   ]
  },
  {
   "cell_type": "code",
   "execution_count": 6,
   "metadata": {},
   "outputs": [
    {
     "data": {
      "text/plain": [
       "<2708x2708 sparse matrix of type '<class 'numpy.float64'>'\n",
       "\twith 13264 stored elements in Compressed Sparse Row format>"
      ]
     },
     "execution_count": 6,
     "metadata": {},
     "output_type": "execute_result"
    }
   ],
   "source": [
    "A"
   ]
  },
  {
   "cell_type": "code",
   "execution_count": 7,
   "metadata": {},
   "outputs": [
    {
     "data": {
      "text/plain": [
       "array([[0, 0, 0, ..., 0, 1, 0],\n",
       "       [0, 0, 1, ..., 0, 0, 0],\n",
       "       [1, 0, 0, ..., 0, 0, 0],\n",
       "       ...,\n",
       "       [0, 0, 0, ..., 1, 0, 0],\n",
       "       [0, 0, 0, ..., 0, 0, 0],\n",
       "       [0, 0, 0, ..., 0, 1, 0]], dtype=int32)"
      ]
     },
     "execution_count": 7,
     "metadata": {},
     "output_type": "execute_result"
    }
   ],
   "source": [
    "y"
   ]
  },
  {
   "cell_type": "markdown",
   "metadata": {},
   "source": [
    "# Model"
   ]
  },
  {
   "cell_type": "markdown",
   "metadata": {},
   "source": [
    "## Input Layers"
   ]
  },
  {
   "cell_type": "code",
   "execution_count": 8,
   "metadata": {},
   "outputs": [
    {
     "name": "stdout",
     "output_type": "stream",
     "text": [
      "WARNING:tensorflow:From /home/bitcommander/Documents/robust-graph-convolutional-networks-against-adversarial-attacks-implementation/.env/lib/python3.7/site-packages/keras/backend/tensorflow_backend.py:517: The name tf.placeholder is deprecated. Please use tf.compat.v1.placeholder instead.\n",
      "\n"
     ]
    },
    {
     "data": {
      "text/plain": [
       "<tf.Tensor 'features:0' shape=(?, 1433) dtype=float32>"
      ]
     },
     "execution_count": 8,
     "metadata": {},
     "output_type": "execute_result"
    }
   ],
   "source": [
    "X_in = Input(shape=(X.shape[1], ), name='features')\n",
    "X_in"
   ]
  },
  {
   "cell_type": "code",
   "execution_count": 9,
   "metadata": {},
   "outputs": [
    {
     "name": "stdout",
     "output_type": "stream",
     "text": [
      "WARNING:tensorflow:From /home/bitcommander/Documents/robust-graph-convolutional-networks-against-adversarial-attacks-implementation/.env/lib/python3.7/site-packages/keras/backend/tensorflow_backend.py:515: The name tf.sparse_placeholder is deprecated. Please use tf.compat.v1.sparse_placeholder instead.\n",
      "\n"
     ]
    },
    {
     "data": {
      "text/plain": [
       "<tensorflow.python.framework.sparse_tensor.SparseTensor at 0x7fc2dc716198>"
      ]
     },
     "execution_count": 9,
     "metadata": {},
     "output_type": "execute_result"
    }
   ],
   "source": [
    "A_in = Input(shape=(None, None), batch_shape=(None, None), sparse=True, name='graph')\n",
    "A_in"
   ]
  },
  {
   "cell_type": "markdown",
   "metadata": {},
   "source": [
    "## Training Loop"
   ]
  },
  {
   "cell_type": "code",
   "execution_count": 10,
   "metadata": {},
   "outputs": [],
   "source": [
    "def train(model, epochs=200, patience=10):\n",
    "    \"\"\"\n",
    "    Train the given model.\n",
    "\n",
    "    Args:\n",
    "        model: the model to train\n",
    "        epochs: the maximum number of training epochs\n",
    "        patience: the number of patience epochs for early stoping\n",
    "\n",
    "    Returns:\n",
    "        a tuple of the testing loss and accuracy\n",
    "\n",
    "    \"\"\"\n",
    "    history = model.fit([X, A], y_train,\n",
    "        sample_weight=train_mask,\n",
    "        batch_size=A.shape[0],\n",
    "        epochs=epochs,\n",
    "        shuffle=False,\n",
    "        callbacks=[\n",
    "            EarlyStopping(monitor='val_loss', patience=patience),\n",
    "        ],\n",
    "        validation_data = ([X, A], y_val, val_mask)\n",
    "    )\n",
    "    val = model.evaluate([X, A], y_test, \n",
    "        sample_weight=test_mask, \n",
    "        batch_size=A.shape[0],\n",
    "    )\n",
    "    return val\n",
    "#     wait = 0\n",
    "#     preds = None\n",
    "#     best_val_loss = 99999\n",
    "#     # Fit\n",
    "#     progress = tqdm(range(1, epochs + 1))\n",
    "#     for epoch in progress:\n",
    "#         # Single training iteration (we mask nodes without labels for loss calculation)\n",
    "#         model.fit([X, A], y_train, \n",
    "#             sample_weight=train_mask,\n",
    "#             batch_size=A.shape[0], \n",
    "#             epochs=1, \n",
    "#             shuffle=False, \n",
    "#             verbose=0)\n",
    "#         # Predict on full dataset\n",
    "#         preds = model.predict([X, A], batch_size=A.shape[0])\n",
    "#         # Train / validation scores\n",
    "#         train_val_loss, train_val_acc = evaluate_preds(preds, [y_train, y_val], [idx_train, idx_val])\n",
    "#         # update the progress bar\n",
    "#         progress.set_postfix(train_acc=train_val_acc[0], val_acc=train_val_acc[1])\n",
    "#         # Early stopping\n",
    "#         if train_val_loss[1] < best_val_loss:  # better loss than best\n",
    "#             best_val_loss = train_val_loss[1]\n",
    "#             wait = 0\n",
    "#         elif wait >= patience:  # early stopping\n",
    "#             break\n",
    "#         else:  # waiting for better loss\n",
    "#             wait += 1\n",
    "#     progress.close()\n",
    "#     # return test set evaluation metrics\n",
    "#     return evaluate_preds(preds, [y_test], [idx_test])"
   ]
  },
  {
   "cell_type": "markdown",
   "metadata": {},
   "source": [
    "## GCN (baseline)"
   ]
  },
  {
   "cell_type": "code",
   "execution_count": 11,
   "metadata": {},
   "outputs": [
    {
     "name": "stdout",
     "output_type": "stream",
     "text": [
      "WARNING:tensorflow:From /home/bitcommander/Documents/robust-graph-convolutional-networks-against-adversarial-attacks-implementation/.env/lib/python3.7/site-packages/keras/backend/tensorflow_backend.py:74: The name tf.get_default_graph is deprecated. Please use tf.compat.v1.get_default_graph instead.\n",
      "\n",
      "WARNING:tensorflow:From /home/bitcommander/Documents/robust-graph-convolutional-networks-against-adversarial-attacks-implementation/.env/lib/python3.7/site-packages/keras/backend/tensorflow_backend.py:133: The name tf.placeholder_with_default is deprecated. Please use tf.compat.v1.placeholder_with_default instead.\n",
      "\n",
      "WARNING:tensorflow:From /home/bitcommander/Documents/robust-graph-convolutional-networks-against-adversarial-attacks-implementation/.env/lib/python3.7/site-packages/keras/backend/tensorflow_backend.py:3445: calling dropout (from tensorflow.python.ops.nn_ops) with keep_prob is deprecated and will be removed in a future version.\n",
      "Instructions for updating:\n",
      "Please use `rate` instead of `keep_prob`. Rate should be set to `rate = 1 - keep_prob`.\n",
      "WARNING:tensorflow:From /home/bitcommander/Documents/robust-graph-convolutional-networks-against-adversarial-attacks-implementation/.env/lib/python3.7/site-packages/keras/backend/tensorflow_backend.py:4138: The name tf.random_uniform is deprecated. Please use tf.random.uniform instead.\n",
      "\n",
      "WARNING:tensorflow:From /home/bitcommander/Documents/robust-graph-convolutional-networks-against-adversarial-attacks-implementation/.env/lib/python3.7/site-packages/keras/optimizers.py:790: The name tf.train.Optimizer is deprecated. Please use tf.compat.v1.train.Optimizer instead.\n",
      "\n",
      "__________________________________________________________________________________________________\n",
      "Layer (type)                    Output Shape         Param #     Connected to                     \n",
      "==================================================================================================\n",
      "features (InputLayer)           (None, 1433)         0                                            \n",
      "__________________________________________________________________________________________________\n",
      "dropout_1 (Dropout)             (None, 1433)         0           features[0][0]                   \n",
      "__________________________________________________________________________________________________\n",
      "graph (InputLayer)              (None, None)         0                                            \n",
      "__________________________________________________________________________________________________\n",
      "graph_convolution_1 (GraphConvo (None, 32)           45888       dropout_1[0][0]                  \n",
      "                                                                 graph[0][0]                      \n",
      "__________________________________________________________________________________________________\n",
      "dropout_2 (Dropout)             (None, 32)           0           graph_convolution_1[0][0]        \n",
      "__________________________________________________________________________________________________\n",
      "graph_convolution_2 (GraphConvo (None, 7)            231         dropout_2[0][0]                  \n",
      "                                                                 graph[0][0]                      \n",
      "==================================================================================================\n",
      "Total params: 46,119\n",
      "Trainable params: 46,119\n",
      "Non-trainable params: 0\n",
      "__________________________________________________________________________________________________\n"
     ]
    }
   ],
   "source": [
    "# create the layers\n",
    "H = Dropout(0.5)(X_in)\n",
    "H = GraphConvolution(32, 1, \n",
    "    activation='relu', \n",
    "    kernel_regularizer=l2(5e-4)\n",
    ")([H, A_in])\n",
    "H = Dropout(0.5)(H)\n",
    "Y = GraphConvolution(y.shape[1], 1, \n",
    "    activation='softmax'\n",
    ")([H, A_in])\n",
    "# create the model\n",
    "gcn = Model(inputs=[X_in, A_in], outputs=Y)\n",
    "gcn.compile(loss='categorical_crossentropy', optimizer=Adam(lr=0.01), weighted_metrics=['acc'])\n",
    "gcn.summary()"
   ]
  },
  {
   "cell_type": "code",
   "execution_count": 12,
   "metadata": {},
   "outputs": [
    {
     "name": "stdout",
     "output_type": "stream",
     "text": [
      "WARNING:tensorflow:From /home/bitcommander/Documents/robust-graph-convolutional-networks-against-adversarial-attacks-implementation/.env/lib/python3.7/site-packages/tensorflow/python/ops/math_grad.py:1250: add_dispatch_support.<locals>.wrapper (from tensorflow.python.ops.array_ops) is deprecated and will be removed in a future version.\n",
      "Instructions for updating:\n",
      "Use tf.where in 2.0, which has the same broadcast rule as np.where\n",
      "Train on 2708 samples, validate on 2708 samples\n",
      "Epoch 1/200\n",
      "2708/2708 [==============================] - 0s 86us/step - loss: 1.9772 - weighted_acc: 0.1857 - val_loss: 1.9588 - val_weighted_acc: 0.3500\n",
      "Epoch 2/200\n",
      "2708/2708 [==============================] - 0s 19us/step - loss: 1.9583 - weighted_acc: 0.3071 - val_loss: 1.9389 - val_weighted_acc: 0.3500\n",
      "Epoch 3/200\n",
      "2708/2708 [==============================] - 0s 20us/step - loss: 1.9386 - weighted_acc: 0.3000 - val_loss: 1.9175 - val_weighted_acc: 0.3500\n",
      "Epoch 4/200\n",
      "2708/2708 [==============================] - 0s 19us/step - loss: 1.9182 - weighted_acc: 0.2929 - val_loss: 1.8985 - val_weighted_acc: 0.3500\n",
      "Epoch 5/200\n",
      "2708/2708 [==============================] - 0s 18us/step - loss: 1.8991 - weighted_acc: 0.2929 - val_loss: 1.8807 - val_weighted_acc: 0.3500\n",
      "Epoch 6/200\n",
      "2708/2708 [==============================] - 0s 17us/step - loss: 1.8808 - weighted_acc: 0.3000 - val_loss: 1.8643 - val_weighted_acc: 0.3500\n",
      "Epoch 7/200\n",
      "2708/2708 [==============================] - 0s 18us/step - loss: 1.8582 - weighted_acc: 0.2929 - val_loss: 1.8485 - val_weighted_acc: 0.3500\n",
      "Epoch 8/200\n",
      "2708/2708 [==============================] - 0s 16us/step - loss: 1.8483 - weighted_acc: 0.2929 - val_loss: 1.8342 - val_weighted_acc: 0.3500\n",
      "Epoch 9/200\n",
      "2708/2708 [==============================] - 0s 19us/step - loss: 1.8317 - weighted_acc: 0.2929 - val_loss: 1.8211 - val_weighted_acc: 0.3500\n",
      "Epoch 10/200\n",
      "2708/2708 [==============================] - 0s 17us/step - loss: 1.7992 - weighted_acc: 0.3143 - val_loss: 1.8093 - val_weighted_acc: 0.3500\n",
      "Epoch 11/200\n",
      "2708/2708 [==============================] - 0s 18us/step - loss: 1.7843 - weighted_acc: 0.2929 - val_loss: 1.7988 - val_weighted_acc: 0.3500\n",
      "Epoch 12/200\n",
      "2708/2708 [==============================] - 0s 17us/step - loss: 1.7803 - weighted_acc: 0.3286 - val_loss: 1.7900 - val_weighted_acc: 0.3500\n",
      "Epoch 13/200\n",
      "2708/2708 [==============================] - 0s 18us/step - loss: 1.7617 - weighted_acc: 0.3071 - val_loss: 1.7828 - val_weighted_acc: 0.3500\n",
      "Epoch 14/200\n",
      "2708/2708 [==============================] - 0s 17us/step - loss: 1.7530 - weighted_acc: 0.3143 - val_loss: 1.7769 - val_weighted_acc: 0.3500\n",
      "Epoch 15/200\n",
      "2708/2708 [==============================] - 0s 18us/step - loss: 1.7486 - weighted_acc: 0.3071 - val_loss: 1.7721 - val_weighted_acc: 0.3633\n",
      "Epoch 16/200\n",
      "2708/2708 [==============================] - 0s 17us/step - loss: 1.7398 - weighted_acc: 0.3500 - val_loss: 1.7679 - val_weighted_acc: 0.3633\n",
      "Epoch 17/200\n",
      "2708/2708 [==============================] - 0s 17us/step - loss: 1.7288 - weighted_acc: 0.3929 - val_loss: 1.7638 - val_weighted_acc: 0.3767\n",
      "Epoch 18/200\n",
      "2708/2708 [==============================] - 0s 20us/step - loss: 1.7232 - weighted_acc: 0.3714 - val_loss: 1.7593 - val_weighted_acc: 0.3933\n",
      "Epoch 19/200\n",
      "2708/2708 [==============================] - 0s 18us/step - loss: 1.7108 - weighted_acc: 0.3786 - val_loss: 1.7543 - val_weighted_acc: 0.4000\n",
      "Epoch 20/200\n",
      "2708/2708 [==============================] - 0s 17us/step - loss: 1.7212 - weighted_acc: 0.4357 - val_loss: 1.7486 - val_weighted_acc: 0.4100\n",
      "Epoch 21/200\n",
      "2708/2708 [==============================] - 0s 17us/step - loss: 1.6875 - weighted_acc: 0.4357 - val_loss: 1.7426 - val_weighted_acc: 0.4300\n",
      "Epoch 22/200\n",
      "2708/2708 [==============================] - 0s 17us/step - loss: 1.6596 - weighted_acc: 0.4571 - val_loss: 1.7366 - val_weighted_acc: 0.4500\n",
      "Epoch 23/200\n",
      "2708/2708 [==============================] - 0s 18us/step - loss: 1.6522 - weighted_acc: 0.4786 - val_loss: 1.7303 - val_weighted_acc: 0.4600\n",
      "Epoch 24/200\n",
      "2708/2708 [==============================] - 0s 18us/step - loss: 1.6439 - weighted_acc: 0.4286 - val_loss: 1.7235 - val_weighted_acc: 0.4633\n",
      "Epoch 25/200\n",
      "2708/2708 [==============================] - 0s 19us/step - loss: 1.6368 - weighted_acc: 0.4500 - val_loss: 1.7166 - val_weighted_acc: 0.4800\n",
      "Epoch 26/200\n",
      "2708/2708 [==============================] - 0s 18us/step - loss: 1.6165 - weighted_acc: 0.5000 - val_loss: 1.7094 - val_weighted_acc: 0.4933\n",
      "Epoch 27/200\n",
      "2708/2708 [==============================] - 0s 16us/step - loss: 1.6039 - weighted_acc: 0.5214 - val_loss: 1.7020 - val_weighted_acc: 0.5033\n",
      "Epoch 28/200\n",
      "2708/2708 [==============================] - 0s 16us/step - loss: 1.5977 - weighted_acc: 0.5071 - val_loss: 1.6948 - val_weighted_acc: 0.5133\n",
      "Epoch 29/200\n",
      "2708/2708 [==============================] - 0s 18us/step - loss: 1.5917 - weighted_acc: 0.5286 - val_loss: 1.6873 - val_weighted_acc: 0.5200\n",
      "Epoch 30/200\n",
      "2708/2708 [==============================] - 0s 20us/step - loss: 1.5918 - weighted_acc: 0.5071 - val_loss: 1.6798 - val_weighted_acc: 0.5233\n",
      "Epoch 31/200\n",
      "2708/2708 [==============================] - 0s 17us/step - loss: 1.5675 - weighted_acc: 0.5643 - val_loss: 1.6722 - val_weighted_acc: 0.5300\n",
      "Epoch 32/200\n",
      "2708/2708 [==============================] - 0s 19us/step - loss: 1.5315 - weighted_acc: 0.6000 - val_loss: 1.6646 - val_weighted_acc: 0.5433\n",
      "Epoch 33/200\n",
      "2708/2708 [==============================] - 0s 17us/step - loss: 1.5358 - weighted_acc: 0.5929 - val_loss: 1.6567 - val_weighted_acc: 0.5400\n",
      "Epoch 34/200\n",
      "2708/2708 [==============================] - 0s 19us/step - loss: 1.5231 - weighted_acc: 0.5643 - val_loss: 1.6491 - val_weighted_acc: 0.5433\n",
      "Epoch 35/200\n",
      "2708/2708 [==============================] - 0s 16us/step - loss: 1.5327 - weighted_acc: 0.6143 - val_loss: 1.6408 - val_weighted_acc: 0.5467\n",
      "Epoch 36/200\n",
      "2708/2708 [==============================] - 0s 15us/step - loss: 1.4939 - weighted_acc: 0.6214 - val_loss: 1.6320 - val_weighted_acc: 0.5533\n",
      "Epoch 37/200\n",
      "2708/2708 [==============================] - 0s 18us/step - loss: 1.4933 - weighted_acc: 0.5571 - val_loss: 1.6230 - val_weighted_acc: 0.5600\n",
      "Epoch 38/200\n",
      "2708/2708 [==============================] - 0s 16us/step - loss: 1.4959 - weighted_acc: 0.5929 - val_loss: 1.6141 - val_weighted_acc: 0.5700\n",
      "Epoch 39/200\n",
      "2708/2708 [==============================] - 0s 16us/step - loss: 1.4875 - weighted_acc: 0.5786 - val_loss: 1.6053 - val_weighted_acc: 0.5800\n",
      "Epoch 40/200\n",
      "2708/2708 [==============================] - 0s 18us/step - loss: 1.4379 - weighted_acc: 0.6357 - val_loss: 1.5964 - val_weighted_acc: 0.5900\n",
      "Epoch 41/200\n",
      "2708/2708 [==============================] - 0s 16us/step - loss: 1.4459 - weighted_acc: 0.6643 - val_loss: 1.5881 - val_weighted_acc: 0.6000\n",
      "Epoch 42/200\n",
      "2708/2708 [==============================] - 0s 16us/step - loss: 1.4119 - weighted_acc: 0.6857 - val_loss: 1.5802 - val_weighted_acc: 0.6100\n",
      "Epoch 43/200\n",
      "2708/2708 [==============================] - 0s 17us/step - loss: 1.4126 - weighted_acc: 0.6714 - val_loss: 1.5727 - val_weighted_acc: 0.6200\n",
      "Epoch 44/200\n",
      "2708/2708 [==============================] - 0s 19us/step - loss: 1.4353 - weighted_acc: 0.7000 - val_loss: 1.5649 - val_weighted_acc: 0.6233\n",
      "Epoch 45/200\n",
      "2708/2708 [==============================] - 0s 17us/step - loss: 1.3776 - weighted_acc: 0.7214 - val_loss: 1.5565 - val_weighted_acc: 0.6433\n",
      "Epoch 46/200\n",
      "2708/2708 [==============================] - 0s 18us/step - loss: 1.3652 - weighted_acc: 0.7143 - val_loss: 1.5477 - val_weighted_acc: 0.6467\n",
      "Epoch 47/200\n",
      "2708/2708 [==============================] - 0s 19us/step - loss: 1.3662 - weighted_acc: 0.7000 - val_loss: 1.5380 - val_weighted_acc: 0.6467\n",
      "Epoch 48/200\n",
      "2708/2708 [==============================] - 0s 15us/step - loss: 1.3653 - weighted_acc: 0.7000 - val_loss: 1.5286 - val_weighted_acc: 0.6600\n",
      "Epoch 49/200\n",
      "2708/2708 [==============================] - 0s 17us/step - loss: 1.3173 - weighted_acc: 0.7643 - val_loss: 1.5187 - val_weighted_acc: 0.6667\n",
      "Epoch 50/200\n",
      "2708/2708 [==============================] - 0s 17us/step - loss: 1.3310 - weighted_acc: 0.7286 - val_loss: 1.5095 - val_weighted_acc: 0.6733\n"
     ]
    },
    {
     "name": "stdout",
     "output_type": "stream",
     "text": [
      "Epoch 51/200\n",
      "2708/2708 [==============================] - 0s 17us/step - loss: 1.3123 - weighted_acc: 0.7214 - val_loss: 1.5002 - val_weighted_acc: 0.6800\n",
      "Epoch 52/200\n",
      "2708/2708 [==============================] - 0s 17us/step - loss: 1.3250 - weighted_acc: 0.7643 - val_loss: 1.4911 - val_weighted_acc: 0.6933\n",
      "Epoch 53/200\n",
      "2708/2708 [==============================] - 0s 17us/step - loss: 1.3077 - weighted_acc: 0.7714 - val_loss: 1.4825 - val_weighted_acc: 0.6967\n",
      "Epoch 54/200\n",
      "2708/2708 [==============================] - 0s 15us/step - loss: 1.3103 - weighted_acc: 0.7643 - val_loss: 1.4743 - val_weighted_acc: 0.6867\n",
      "Epoch 55/200\n",
      "2708/2708 [==============================] - 0s 15us/step - loss: 1.2669 - weighted_acc: 0.7929 - val_loss: 1.4664 - val_weighted_acc: 0.7033\n",
      "Epoch 56/200\n",
      "2708/2708 [==============================] - 0s 17us/step - loss: 1.2967 - weighted_acc: 0.7214 - val_loss: 1.4593 - val_weighted_acc: 0.7067\n",
      "Epoch 57/200\n",
      "2708/2708 [==============================] - 0s 16us/step - loss: 1.2870 - weighted_acc: 0.7214 - val_loss: 1.4519 - val_weighted_acc: 0.7000\n",
      "Epoch 58/200\n",
      "2708/2708 [==============================] - 0s 20us/step - loss: 1.2562 - weighted_acc: 0.7357 - val_loss: 1.4449 - val_weighted_acc: 0.7100\n",
      "Epoch 59/200\n",
      "2708/2708 [==============================] - 0s 21us/step - loss: 1.2374 - weighted_acc: 0.7929 - val_loss: 1.4372 - val_weighted_acc: 0.7167\n",
      "Epoch 60/200\n",
      "2708/2708 [==============================] - 0s 18us/step - loss: 1.2435 - weighted_acc: 0.7643 - val_loss: 1.4293 - val_weighted_acc: 0.7233\n",
      "Epoch 61/200\n",
      "2708/2708 [==============================] - 0s 19us/step - loss: 1.2225 - weighted_acc: 0.7786 - val_loss: 1.4220 - val_weighted_acc: 0.7267\n",
      "Epoch 62/200\n",
      "2708/2708 [==============================] - 0s 16us/step - loss: 1.2374 - weighted_acc: 0.7571 - val_loss: 1.4137 - val_weighted_acc: 0.7267\n",
      "Epoch 63/200\n",
      "2708/2708 [==============================] - 0s 16us/step - loss: 1.1820 - weighted_acc: 0.8000 - val_loss: 1.4050 - val_weighted_acc: 0.7300\n",
      "Epoch 64/200\n",
      "2708/2708 [==============================] - 0s 17us/step - loss: 1.1668 - weighted_acc: 0.8286 - val_loss: 1.3959 - val_weighted_acc: 0.7300\n",
      "Epoch 65/200\n",
      "2708/2708 [==============================] - 0s 17us/step - loss: 1.1703 - weighted_acc: 0.8357 - val_loss: 1.3870 - val_weighted_acc: 0.7300\n",
      "Epoch 66/200\n",
      "2708/2708 [==============================] - 0s 16us/step - loss: 1.1687 - weighted_acc: 0.8000 - val_loss: 1.3788 - val_weighted_acc: 0.7367\n",
      "Epoch 67/200\n",
      "2708/2708 [==============================] - 0s 19us/step - loss: 1.2080 - weighted_acc: 0.7643 - val_loss: 1.3714 - val_weighted_acc: 0.7333\n",
      "Epoch 68/200\n",
      "2708/2708 [==============================] - 0s 16us/step - loss: 1.1454 - weighted_acc: 0.7857 - val_loss: 1.3646 - val_weighted_acc: 0.7367\n",
      "Epoch 69/200\n",
      "2708/2708 [==============================] - 0s 22us/step - loss: 1.1567 - weighted_acc: 0.7786 - val_loss: 1.3593 - val_weighted_acc: 0.7400\n",
      "Epoch 70/200\n",
      "2708/2708 [==============================] - 0s 18us/step - loss: 1.1524 - weighted_acc: 0.8214 - val_loss: 1.3540 - val_weighted_acc: 0.7367\n",
      "Epoch 71/200\n",
      "2708/2708 [==============================] - 0s 18us/step - loss: 1.1402 - weighted_acc: 0.8143 - val_loss: 1.3490 - val_weighted_acc: 0.7433\n",
      "Epoch 72/200\n",
      "2708/2708 [==============================] - 0s 19us/step - loss: 1.1410 - weighted_acc: 0.8286 - val_loss: 1.3435 - val_weighted_acc: 0.7467\n",
      "Epoch 73/200\n",
      "2708/2708 [==============================] - 0s 18us/step - loss: 1.1177 - weighted_acc: 0.8429 - val_loss: 1.3376 - val_weighted_acc: 0.7500\n",
      "Epoch 74/200\n",
      "2708/2708 [==============================] - 0s 20us/step - loss: 1.1262 - weighted_acc: 0.8357 - val_loss: 1.3295 - val_weighted_acc: 0.7533\n",
      "Epoch 75/200\n",
      "2708/2708 [==============================] - 0s 22us/step - loss: 1.1002 - weighted_acc: 0.8143 - val_loss: 1.3219 - val_weighted_acc: 0.7600\n",
      "Epoch 76/200\n",
      "2708/2708 [==============================] - 0s 17us/step - loss: 1.0783 - weighted_acc: 0.8571 - val_loss: 1.3151 - val_weighted_acc: 0.7733\n",
      "Epoch 77/200\n",
      "2708/2708 [==============================] - 0s 18us/step - loss: 1.0915 - weighted_acc: 0.8500 - val_loss: 1.3094 - val_weighted_acc: 0.7733\n",
      "Epoch 78/200\n",
      "2708/2708 [==============================] - 0s 18us/step - loss: 1.0895 - weighted_acc: 0.8214 - val_loss: 1.3037 - val_weighted_acc: 0.7767\n",
      "Epoch 79/200\n",
      "2708/2708 [==============================] - 0s 18us/step - loss: 1.1019 - weighted_acc: 0.8071 - val_loss: 1.2977 - val_weighted_acc: 0.7800\n",
      "Epoch 80/200\n",
      "2708/2708 [==============================] - 0s 18us/step - loss: 1.0727 - weighted_acc: 0.8357 - val_loss: 1.2926 - val_weighted_acc: 0.7867\n",
      "Epoch 81/200\n",
      "2708/2708 [==============================] - 0s 16us/step - loss: 1.0726 - weighted_acc: 0.8571 - val_loss: 1.2871 - val_weighted_acc: 0.7867\n",
      "Epoch 82/200\n",
      "2708/2708 [==============================] - 0s 16us/step - loss: 1.0856 - weighted_acc: 0.8286 - val_loss: 1.2819 - val_weighted_acc: 0.7767\n",
      "Epoch 83/200\n",
      "2708/2708 [==============================] - 0s 17us/step - loss: 1.0478 - weighted_acc: 0.8357 - val_loss: 1.2762 - val_weighted_acc: 0.7767\n",
      "Epoch 84/200\n",
      "2708/2708 [==============================] - 0s 17us/step - loss: 1.0301 - weighted_acc: 0.8571 - val_loss: 1.2710 - val_weighted_acc: 0.7833\n",
      "Epoch 85/200\n",
      "2708/2708 [==============================] - 0s 17us/step - loss: 1.0592 - weighted_acc: 0.8500 - val_loss: 1.2644 - val_weighted_acc: 0.7900\n",
      "Epoch 86/200\n",
      "2708/2708 [==============================] - 0s 16us/step - loss: 1.0710 - weighted_acc: 0.8500 - val_loss: 1.2585 - val_weighted_acc: 0.7933\n",
      "Epoch 87/200\n",
      "2708/2708 [==============================] - 0s 16us/step - loss: 1.0356 - weighted_acc: 0.8571 - val_loss: 1.2531 - val_weighted_acc: 0.7933\n",
      "Epoch 88/200\n",
      "2708/2708 [==============================] - 0s 17us/step - loss: 1.0648 - weighted_acc: 0.8000 - val_loss: 1.2481 - val_weighted_acc: 0.7900\n",
      "Epoch 89/200\n",
      "2708/2708 [==============================] - 0s 18us/step - loss: 1.0703 - weighted_acc: 0.8214 - val_loss: 1.2437 - val_weighted_acc: 0.7967\n",
      "Epoch 90/200\n",
      "2708/2708 [==============================] - 0s 17us/step - loss: 0.9649 - weighted_acc: 0.8786 - val_loss: 1.2400 - val_weighted_acc: 0.7967\n",
      "Epoch 91/200\n",
      "2708/2708 [==============================] - 0s 16us/step - loss: 0.9856 - weighted_acc: 0.8786 - val_loss: 1.2366 - val_weighted_acc: 0.7867\n",
      "Epoch 92/200\n",
      "2708/2708 [==============================] - 0s 17us/step - loss: 1.0399 - weighted_acc: 0.8643 - val_loss: 1.2312 - val_weighted_acc: 0.8033\n",
      "Epoch 93/200\n",
      "2708/2708 [==============================] - 0s 18us/step - loss: 0.9881 - weighted_acc: 0.8714 - val_loss: 1.2253 - val_weighted_acc: 0.8067\n",
      "Epoch 94/200\n",
      "2708/2708 [==============================] - 0s 20us/step - loss: 0.9801 - weighted_acc: 0.8857 - val_loss: 1.2194 - val_weighted_acc: 0.8033\n",
      "Epoch 95/200\n",
      "2708/2708 [==============================] - 0s 22us/step - loss: 1.0124 - weighted_acc: 0.8571 - val_loss: 1.2144 - val_weighted_acc: 0.8033\n",
      "Epoch 96/200\n",
      "2708/2708 [==============================] - 0s 19us/step - loss: 1.0150 - weighted_acc: 0.8714 - val_loss: 1.2095 - val_weighted_acc: 0.8033\n",
      "Epoch 97/200\n",
      "2708/2708 [==============================] - 0s 16us/step - loss: 0.9505 - weighted_acc: 0.8643 - val_loss: 1.2057 - val_weighted_acc: 0.8033\n",
      "Epoch 98/200\n",
      "2708/2708 [==============================] - 0s 17us/step - loss: 0.9769 - weighted_acc: 0.8429 - val_loss: 1.2033 - val_weighted_acc: 0.7933\n",
      "Epoch 99/200\n",
      "2708/2708 [==============================] - 0s 16us/step - loss: 0.9662 - weighted_acc: 0.8857 - val_loss: 1.2014 - val_weighted_acc: 0.7900\n",
      "Epoch 100/200\n",
      "2708/2708 [==============================] - 0s 16us/step - loss: 0.9678 - weighted_acc: 0.8786 - val_loss: 1.1999 - val_weighted_acc: 0.7900\n",
      "Epoch 101/200\n",
      "2708/2708 [==============================] - 0s 17us/step - loss: 1.0453 - weighted_acc: 0.8357 - val_loss: 1.1992 - val_weighted_acc: 0.7900\n",
      "Epoch 102/200\n",
      "2708/2708 [==============================] - 0s 17us/step - loss: 0.9435 - weighted_acc: 0.8857 - val_loss: 1.1954 - val_weighted_acc: 0.7900\n",
      "Epoch 103/200\n",
      "2708/2708 [==============================] - 0s 16us/step - loss: 0.9131 - weighted_acc: 0.8929 - val_loss: 1.1894 - val_weighted_acc: 0.7933\n"
     ]
    },
    {
     "name": "stdout",
     "output_type": "stream",
     "text": [
      "Epoch 104/200\n",
      "2708/2708 [==============================] - 0s 16us/step - loss: 0.9529 - weighted_acc: 0.8857 - val_loss: 1.1843 - val_weighted_acc: 0.7933\n",
      "Epoch 105/200\n",
      "2708/2708 [==============================] - 0s 17us/step - loss: 0.9493 - weighted_acc: 0.9000 - val_loss: 1.1793 - val_weighted_acc: 0.8067\n",
      "Epoch 106/200\n",
      "2708/2708 [==============================] - 0s 21us/step - loss: 0.9379 - weighted_acc: 0.8929 - val_loss: 1.1750 - val_weighted_acc: 0.8033\n",
      "Epoch 107/200\n",
      "2708/2708 [==============================] - 0s 20us/step - loss: 0.8800 - weighted_acc: 0.9071 - val_loss: 1.1713 - val_weighted_acc: 0.8067\n",
      "Epoch 108/200\n",
      "2708/2708 [==============================] - 0s 20us/step - loss: 0.9381 - weighted_acc: 0.8786 - val_loss: 1.1673 - val_weighted_acc: 0.8133\n",
      "Epoch 109/200\n",
      "2708/2708 [==============================] - 0s 19us/step - loss: 0.9649 - weighted_acc: 0.8643 - val_loss: 1.1656 - val_weighted_acc: 0.8133\n",
      "Epoch 110/200\n",
      "2708/2708 [==============================] - 0s 20us/step - loss: 0.8998 - weighted_acc: 0.9143 - val_loss: 1.1651 - val_weighted_acc: 0.8167\n",
      "Epoch 111/200\n",
      "2708/2708 [==============================] - 0s 18us/step - loss: 0.8945 - weighted_acc: 0.9429 - val_loss: 1.1653 - val_weighted_acc: 0.8067\n",
      "Epoch 112/200\n",
      "2708/2708 [==============================] - 0s 18us/step - loss: 0.8887 - weighted_acc: 0.9071 - val_loss: 1.1606 - val_weighted_acc: 0.8067\n",
      "Epoch 113/200\n",
      "2708/2708 [==============================] - 0s 16us/step - loss: 0.9152 - weighted_acc: 0.8857 - val_loss: 1.1556 - val_weighted_acc: 0.8033\n",
      "Epoch 114/200\n",
      "2708/2708 [==============================] - 0s 16us/step - loss: 0.9384 - weighted_acc: 0.9000 - val_loss: 1.1480 - val_weighted_acc: 0.8000\n",
      "Epoch 115/200\n",
      "2708/2708 [==============================] - 0s 18us/step - loss: 0.8853 - weighted_acc: 0.9143 - val_loss: 1.1404 - val_weighted_acc: 0.8033\n",
      "Epoch 116/200\n",
      "2708/2708 [==============================] - 0s 19us/step - loss: 0.8962 - weighted_acc: 0.8643 - val_loss: 1.1355 - val_weighted_acc: 0.8033\n",
      "Epoch 117/200\n",
      "2708/2708 [==============================] - 0s 18us/step - loss: 0.8803 - weighted_acc: 0.8857 - val_loss: 1.1324 - val_weighted_acc: 0.8000\n",
      "Epoch 118/200\n",
      "2708/2708 [==============================] - 0s 19us/step - loss: 0.9050 - weighted_acc: 0.8571 - val_loss: 1.1305 - val_weighted_acc: 0.8000\n",
      "Epoch 119/200\n",
      "2708/2708 [==============================] - 0s 17us/step - loss: 0.9079 - weighted_acc: 0.8571 - val_loss: 1.1293 - val_weighted_acc: 0.8133\n",
      "Epoch 120/200\n",
      "2708/2708 [==============================] - 0s 17us/step - loss: 0.9026 - weighted_acc: 0.8643 - val_loss: 1.1301 - val_weighted_acc: 0.8100\n",
      "Epoch 121/200\n",
      "2708/2708 [==============================] - 0s 18us/step - loss: 0.8693 - weighted_acc: 0.9214 - val_loss: 1.1329 - val_weighted_acc: 0.8133\n",
      "Epoch 122/200\n",
      "2708/2708 [==============================] - 0s 18us/step - loss: 0.9201 - weighted_acc: 0.8857 - val_loss: 1.1342 - val_weighted_acc: 0.8067\n",
      "Epoch 123/200\n",
      "2708/2708 [==============================] - 0s 19us/step - loss: 0.8643 - weighted_acc: 0.9000 - val_loss: 1.1331 - val_weighted_acc: 0.8067\n",
      "Epoch 124/200\n",
      "2708/2708 [==============================] - 0s 20us/step - loss: 0.8364 - weighted_acc: 0.9500 - val_loss: 1.1281 - val_weighted_acc: 0.8200\n",
      "Epoch 125/200\n",
      "2708/2708 [==============================] - 0s 19us/step - loss: 0.8507 - weighted_acc: 0.9071 - val_loss: 1.1228 - val_weighted_acc: 0.8200\n",
      "Epoch 126/200\n",
      "2708/2708 [==============================] - 0s 18us/step - loss: 0.8797 - weighted_acc: 0.9071 - val_loss: 1.1158 - val_weighted_acc: 0.8233\n",
      "Epoch 127/200\n",
      "2708/2708 [==============================] - 0s 17us/step - loss: 0.8772 - weighted_acc: 0.8857 - val_loss: 1.1099 - val_weighted_acc: 0.8133\n",
      "Epoch 128/200\n",
      "2708/2708 [==============================] - 0s 19us/step - loss: 0.8401 - weighted_acc: 0.9214 - val_loss: 1.1055 - val_weighted_acc: 0.8100\n",
      "Epoch 129/200\n",
      "2708/2708 [==============================] - 0s 17us/step - loss: 0.8406 - weighted_acc: 0.9071 - val_loss: 1.1017 - val_weighted_acc: 0.8167\n",
      "Epoch 130/200\n",
      "2708/2708 [==============================] - 0s 19us/step - loss: 0.8405 - weighted_acc: 0.9071 - val_loss: 1.0984 - val_weighted_acc: 0.8200\n",
      "Epoch 131/200\n",
      "2708/2708 [==============================] - 0s 18us/step - loss: 0.8378 - weighted_acc: 0.8929 - val_loss: 1.0955 - val_weighted_acc: 0.8200\n",
      "Epoch 132/200\n",
      "2708/2708 [==============================] - 0s 17us/step - loss: 0.8057 - weighted_acc: 0.9214 - val_loss: 1.0928 - val_weighted_acc: 0.8233\n",
      "Epoch 133/200\n",
      "2708/2708 [==============================] - 0s 18us/step - loss: 0.8599 - weighted_acc: 0.9286 - val_loss: 1.0905 - val_weighted_acc: 0.8300\n",
      "Epoch 134/200\n",
      "2708/2708 [==============================] - 0s 19us/step - loss: 0.8862 - weighted_acc: 0.9071 - val_loss: 1.0893 - val_weighted_acc: 0.8200\n",
      "Epoch 135/200\n",
      "2708/2708 [==============================] - 0s 15us/step - loss: 0.7801 - weighted_acc: 0.9286 - val_loss: 1.0919 - val_weighted_acc: 0.8067\n",
      "Epoch 136/200\n",
      "2708/2708 [==============================] - 0s 17us/step - loss: 0.8586 - weighted_acc: 0.8929 - val_loss: 1.0923 - val_weighted_acc: 0.8033\n",
      "Epoch 137/200\n",
      "2708/2708 [==============================] - 0s 17us/step - loss: 0.7880 - weighted_acc: 0.9286 - val_loss: 1.0911 - val_weighted_acc: 0.8033\n",
      "Epoch 138/200\n",
      "2708/2708 [==============================] - 0s 16us/step - loss: 0.7910 - weighted_acc: 0.9286 - val_loss: 1.0884 - val_weighted_acc: 0.8033\n",
      "Epoch 139/200\n",
      "2708/2708 [==============================] - 0s 18us/step - loss: 0.8718 - weighted_acc: 0.8643 - val_loss: 1.0872 - val_weighted_acc: 0.8033\n",
      "Epoch 140/200\n",
      "2708/2708 [==============================] - 0s 18us/step - loss: 0.8239 - weighted_acc: 0.9071 - val_loss: 1.0846 - val_weighted_acc: 0.8033\n",
      "Epoch 141/200\n",
      "2708/2708 [==============================] - 0s 17us/step - loss: 0.8629 - weighted_acc: 0.8857 - val_loss: 1.0810 - val_weighted_acc: 0.8200\n",
      "Epoch 142/200\n",
      "2708/2708 [==============================] - 0s 20us/step - loss: 0.8054 - weighted_acc: 0.9071 - val_loss: 1.0791 - val_weighted_acc: 0.8200\n",
      "Epoch 143/200\n",
      "2708/2708 [==============================] - 0s 17us/step - loss: 0.7943 - weighted_acc: 0.9500 - val_loss: 1.0761 - val_weighted_acc: 0.8333\n",
      "Epoch 144/200\n",
      "2708/2708 [==============================] - 0s 18us/step - loss: 0.8213 - weighted_acc: 0.8714 - val_loss: 1.0754 - val_weighted_acc: 0.8300\n",
      "Epoch 145/200\n",
      "2708/2708 [==============================] - 0s 18us/step - loss: 0.8108 - weighted_acc: 0.9000 - val_loss: 1.0734 - val_weighted_acc: 0.8300\n",
      "Epoch 146/200\n",
      "2708/2708 [==============================] - 0s 16us/step - loss: 0.7859 - weighted_acc: 0.9071 - val_loss: 1.0713 - val_weighted_acc: 0.8267\n",
      "Epoch 147/200\n",
      "2708/2708 [==============================] - 0s 18us/step - loss: 0.7904 - weighted_acc: 0.9286 - val_loss: 1.0678 - val_weighted_acc: 0.8233\n",
      "Epoch 148/200\n",
      "2708/2708 [==============================] - 0s 20us/step - loss: 0.8087 - weighted_acc: 0.9143 - val_loss: 1.0655 - val_weighted_acc: 0.8167\n",
      "Epoch 149/200\n",
      "2708/2708 [==============================] - 0s 17us/step - loss: 0.8063 - weighted_acc: 0.9286 - val_loss: 1.0636 - val_weighted_acc: 0.8200\n",
      "Epoch 150/200\n",
      "2708/2708 [==============================] - 0s 18us/step - loss: 0.7550 - weighted_acc: 0.9357 - val_loss: 1.0613 - val_weighted_acc: 0.8233\n",
      "Epoch 151/200\n",
      "2708/2708 [==============================] - 0s 16us/step - loss: 0.7527 - weighted_acc: 0.9571 - val_loss: 1.0590 - val_weighted_acc: 0.8200\n",
      "Epoch 152/200\n",
      "2708/2708 [==============================] - 0s 17us/step - loss: 0.7751 - weighted_acc: 0.9357 - val_loss: 1.0574 - val_weighted_acc: 0.8167\n",
      "Epoch 153/200\n",
      "2708/2708 [==============================] - 0s 18us/step - loss: 0.7782 - weighted_acc: 0.9357 - val_loss: 1.0564 - val_weighted_acc: 0.8200\n",
      "Epoch 154/200\n",
      "2708/2708 [==============================] - 0s 17us/step - loss: 0.7922 - weighted_acc: 0.9286 - val_loss: 1.0554 - val_weighted_acc: 0.8333\n",
      "Epoch 155/200\n",
      "2708/2708 [==============================] - 0s 19us/step - loss: 0.7623 - weighted_acc: 0.9429 - val_loss: 1.0543 - val_weighted_acc: 0.8333\n",
      "Epoch 156/200\n",
      "2708/2708 [==============================] - 0s 18us/step - loss: 0.7752 - weighted_acc: 0.9286 - val_loss: 1.0538 - val_weighted_acc: 0.8267\n"
     ]
    },
    {
     "name": "stdout",
     "output_type": "stream",
     "text": [
      "Epoch 157/200\n",
      "2708/2708 [==============================] - 0s 18us/step - loss: 0.8009 - weighted_acc: 0.9071 - val_loss: 1.0521 - val_weighted_acc: 0.8300\n",
      "Epoch 158/200\n",
      "2708/2708 [==============================] - 0s 19us/step - loss: 0.7748 - weighted_acc: 0.9357 - val_loss: 1.0496 - val_weighted_acc: 0.8333\n",
      "Epoch 159/200\n",
      "2708/2708 [==============================] - 0s 17us/step - loss: 0.7267 - weighted_acc: 0.9214 - val_loss: 1.0469 - val_weighted_acc: 0.8333\n",
      "Epoch 160/200\n",
      "2708/2708 [==============================] - 0s 18us/step - loss: 0.7410 - weighted_acc: 0.9214 - val_loss: 1.0449 - val_weighted_acc: 0.8367\n",
      "Epoch 161/200\n",
      "2708/2708 [==============================] - 0s 18us/step - loss: 0.7639 - weighted_acc: 0.9500 - val_loss: 1.0420 - val_weighted_acc: 0.8333\n",
      "Epoch 162/200\n",
      "2708/2708 [==============================] - 0s 18us/step - loss: 0.8080 - weighted_acc: 0.9357 - val_loss: 1.0418 - val_weighted_acc: 0.8300\n",
      "Epoch 163/200\n",
      "2708/2708 [==============================] - 0s 18us/step - loss: 0.7446 - weighted_acc: 0.9286 - val_loss: 1.0425 - val_weighted_acc: 0.8233\n",
      "Epoch 164/200\n",
      "2708/2708 [==============================] - 0s 20us/step - loss: 0.7175 - weighted_acc: 0.9571 - val_loss: 1.0402 - val_weighted_acc: 0.8233\n",
      "Epoch 165/200\n",
      "2708/2708 [==============================] - 0s 18us/step - loss: 0.7353 - weighted_acc: 0.9429 - val_loss: 1.0363 - val_weighted_acc: 0.8167\n",
      "Epoch 166/200\n",
      "2708/2708 [==============================] - 0s 19us/step - loss: 0.7271 - weighted_acc: 0.9500 - val_loss: 1.0332 - val_weighted_acc: 0.8133\n",
      "Epoch 167/200\n",
      "2708/2708 [==============================] - 0s 18us/step - loss: 0.7692 - weighted_acc: 0.9143 - val_loss: 1.0327 - val_weighted_acc: 0.8200\n",
      "Epoch 168/200\n",
      "2708/2708 [==============================] - 0s 17us/step - loss: 0.7436 - weighted_acc: 0.9429 - val_loss: 1.0342 - val_weighted_acc: 0.8167\n",
      "Epoch 169/200\n",
      "2708/2708 [==============================] - 0s 18us/step - loss: 0.7022 - weighted_acc: 0.9143 - val_loss: 1.0345 - val_weighted_acc: 0.8200\n",
      "Epoch 170/200\n",
      "2708/2708 [==============================] - 0s 18us/step - loss: 0.7344 - weighted_acc: 0.9214 - val_loss: 1.0339 - val_weighted_acc: 0.8267\n",
      "Epoch 171/200\n",
      "2708/2708 [==============================] - 0s 19us/step - loss: 0.7068 - weighted_acc: 0.9643 - val_loss: 1.0314 - val_weighted_acc: 0.8333\n",
      "Epoch 172/200\n",
      "2708/2708 [==============================] - 0s 18us/step - loss: 0.7029 - weighted_acc: 0.9143 - val_loss: 1.0287 - val_weighted_acc: 0.8333\n",
      "Epoch 173/200\n",
      "2708/2708 [==============================] - 0s 18us/step - loss: 0.7658 - weighted_acc: 0.9286 - val_loss: 1.0246 - val_weighted_acc: 0.8333\n",
      "Epoch 174/200\n",
      "2708/2708 [==============================] - 0s 18us/step - loss: 0.7871 - weighted_acc: 0.9214 - val_loss: 1.0222 - val_weighted_acc: 0.8367\n",
      "Epoch 175/200\n",
      "2708/2708 [==============================] - 0s 18us/step - loss: 0.7249 - weighted_acc: 0.9571 - val_loss: 1.0198 - val_weighted_acc: 0.8433\n",
      "Epoch 176/200\n",
      "2708/2708 [==============================] - 0s 18us/step - loss: 0.7071 - weighted_acc: 0.9429 - val_loss: 1.0184 - val_weighted_acc: 0.8333\n",
      "Epoch 177/200\n",
      "2708/2708 [==============================] - 0s 18us/step - loss: 0.7195 - weighted_acc: 0.9143 - val_loss: 1.0180 - val_weighted_acc: 0.8267\n",
      "Epoch 178/200\n",
      "2708/2708 [==============================] - 0s 19us/step - loss: 0.6979 - weighted_acc: 0.9286 - val_loss: 1.0198 - val_weighted_acc: 0.8167\n",
      "Epoch 179/200\n",
      "2708/2708 [==============================] - 0s 16us/step - loss: 0.6816 - weighted_acc: 0.9500 - val_loss: 1.0225 - val_weighted_acc: 0.8133\n",
      "Epoch 180/200\n",
      "2708/2708 [==============================] - 0s 19us/step - loss: 0.7171 - weighted_acc: 0.9214 - val_loss: 1.0207 - val_weighted_acc: 0.8133\n",
      "Epoch 181/200\n",
      "2708/2708 [==============================] - 0s 19us/step - loss: 0.7422 - weighted_acc: 0.9286 - val_loss: 1.0163 - val_weighted_acc: 0.8167\n",
      "Epoch 182/200\n",
      "2708/2708 [==============================] - 0s 16us/step - loss: 0.7369 - weighted_acc: 0.9071 - val_loss: 1.0125 - val_weighted_acc: 0.8200\n",
      "Epoch 183/200\n",
      "2708/2708 [==============================] - 0s 16us/step - loss: 0.6673 - weighted_acc: 0.9500 - val_loss: 1.0088 - val_weighted_acc: 0.8167\n",
      "Epoch 184/200\n",
      "2708/2708 [==============================] - 0s 17us/step - loss: 0.7152 - weighted_acc: 0.9429 - val_loss: 1.0061 - val_weighted_acc: 0.8200\n",
      "Epoch 185/200\n",
      "2708/2708 [==============================] - 0s 19us/step - loss: 0.7113 - weighted_acc: 0.9214 - val_loss: 1.0034 - val_weighted_acc: 0.8200\n",
      "Epoch 186/200\n",
      "2708/2708 [==============================] - 0s 17us/step - loss: 0.6822 - weighted_acc: 0.9500 - val_loss: 1.0020 - val_weighted_acc: 0.8200\n",
      "Epoch 187/200\n",
      "2708/2708 [==============================] - 0s 19us/step - loss: 0.7133 - weighted_acc: 0.9286 - val_loss: 1.0016 - val_weighted_acc: 0.8200\n",
      "Epoch 188/200\n",
      "2708/2708 [==============================] - 0s 16us/step - loss: 0.7326 - weighted_acc: 0.9214 - val_loss: 1.0020 - val_weighted_acc: 0.8200\n",
      "Epoch 189/200\n",
      "2708/2708 [==============================] - 0s 16us/step - loss: 0.7015 - weighted_acc: 0.9357 - val_loss: 1.0029 - val_weighted_acc: 0.8233\n",
      "Epoch 190/200\n",
      "2708/2708 [==============================] - 0s 16us/step - loss: 0.6948 - weighted_acc: 0.9071 - val_loss: 1.0075 - val_weighted_acc: 0.8167\n",
      "Epoch 191/200\n",
      "2708/2708 [==============================] - 0s 19us/step - loss: 0.7321 - weighted_acc: 0.9286 - val_loss: 1.0095 - val_weighted_acc: 0.8200\n",
      "Epoch 192/200\n",
      "2708/2708 [==============================] - 0s 16us/step - loss: 0.7054 - weighted_acc: 0.9357 - val_loss: 1.0070 - val_weighted_acc: 0.8167\n",
      "Epoch 193/200\n",
      "2708/2708 [==============================] - 0s 17us/step - loss: 0.6512 - weighted_acc: 0.9571 - val_loss: 1.0003 - val_weighted_acc: 0.8200\n",
      "Epoch 194/200\n",
      "2708/2708 [==============================] - 0s 19us/step - loss: 0.6770 - weighted_acc: 0.9643 - val_loss: 0.9922 - val_weighted_acc: 0.8267\n",
      "Epoch 195/200\n",
      "2708/2708 [==============================] - 0s 19us/step - loss: 0.6798 - weighted_acc: 0.9571 - val_loss: 0.9874 - val_weighted_acc: 0.8267\n",
      "Epoch 196/200\n",
      "2708/2708 [==============================] - 0s 18us/step - loss: 0.7098 - weighted_acc: 0.9214 - val_loss: 0.9851 - val_weighted_acc: 0.8267\n",
      "Epoch 197/200\n",
      "2708/2708 [==============================] - 0s 18us/step - loss: 0.6596 - weighted_acc: 0.9571 - val_loss: 0.9834 - val_weighted_acc: 0.8367\n",
      "Epoch 198/200\n",
      "2708/2708 [==============================] - 0s 18us/step - loss: 0.6842 - weighted_acc: 0.9357 - val_loss: 0.9852 - val_weighted_acc: 0.8333\n",
      "Epoch 199/200\n",
      "2708/2708 [==============================] - 0s 17us/step - loss: 0.6861 - weighted_acc: 0.9357 - val_loss: 0.9919 - val_weighted_acc: 0.8300\n",
      "Epoch 200/200\n",
      "2708/2708 [==============================] - 0s 17us/step - loss: 0.6961 - weighted_acc: 0.9286 - val_loss: 0.9965 - val_weighted_acc: 0.8233\n",
      "2708/2708 [==============================] - 0s 5us/step\n"
     ]
    },
    {
     "data": {
      "text/plain": [
       "0.8149991035461426"
      ]
     },
     "execution_count": 12,
     "metadata": {},
     "output_type": "execute_result"
    }
   ],
   "source": [
    "train(gcn)[1]"
   ]
  },
  {
   "cell_type": "markdown",
   "metadata": {},
   "source": [
    "## Gaussian Graph Convolution"
   ]
  },
  {
   "cell_type": "code",
   "execution_count": 13,
   "metadata": {
    "scrolled": false
   },
   "outputs": [
    {
     "name": "stdout",
     "output_type": "stream",
     "text": [
      "WARNING:tensorflow:Large dropout rate: 0.6 (>0.5). In TensorFlow 2.x, dropout() uses dropout rate instead of keep_prob. Please ensure that this is intended.\n",
      "WARNING:tensorflow:Large dropout rate: 0.6 (>0.5). In TensorFlow 2.x, dropout() uses dropout rate instead of keep_prob. Please ensure that this is intended.\n",
      "WARNING:tensorflow:Large dropout rate: 0.6 (>0.5). In TensorFlow 2.x, dropout() uses dropout rate instead of keep_prob. Please ensure that this is intended.\n",
      "WARNING:tensorflow:From /home/bitcommander/Documents/robust-graph-convolutional-networks-against-adversarial-attacks-implementation/rgcn/ggc.py:206: Normal.__init__ (from tensorflow.python.ops.distributions.normal) is deprecated and will be removed after 2019-01-01.\n",
      "Instructions for updating:\n",
      "The TensorFlow Distributions library has moved to TensorFlow Probability (https://github.com/tensorflow/probability). You should update all references to use `tfp.distributions` instead of `tf.distributions`.\n",
      "WARNING:tensorflow:From /home/bitcommander/Documents/robust-graph-convolutional-networks-against-adversarial-attacks-implementation/.env/lib/python3.7/site-packages/tensorflow/python/ops/distributions/normal.py:160: Distribution.__init__ (from tensorflow.python.ops.distributions.distribution) is deprecated and will be removed after 2019-01-01.\n",
      "Instructions for updating:\n",
      "The TensorFlow Distributions library has moved to TensorFlow Probability (https://github.com/tensorflow/probability). You should update all references to use `tfp.distributions` instead of `tf.distributions`.\n",
      "WARNING:tensorflow:From /home/bitcommander/Documents/robust-graph-convolutional-networks-against-adversarial-attacks-implementation/rgcn/losses.py:28: kl_divergence (from tensorflow.python.ops.distributions.kullback_leibler) is deprecated and will be removed after 2019-01-01.\n",
      "Instructions for updating:\n",
      "The TensorFlow Distributions library has moved to TensorFlow Probability (https://github.com/tensorflow/probability). You should update all references to use `tfp.distributions` instead of `tf.distributions`.\n",
      "__________________________________________________________________________________________________\n",
      "Layer (type)                    Output Shape         Param #     Connected to                     \n",
      "==================================================================================================\n",
      "features (InputLayer)           (None, 1433)         0                                            \n",
      "__________________________________________________________________________________________________\n",
      "dropout_3 (Dropout)             (None, 1433)         0           features[0][0]                   \n",
      "__________________________________________________________________________________________________\n",
      "graph (InputLayer)              (None, None)         0                                            \n",
      "__________________________________________________________________________________________________\n",
      "gaussian_graph_convolution_1 (G [(None, 16), (None,  45856       dropout_3[0][0]                  \n",
      "                                                                 graph[0][0]                      \n",
      "__________________________________________________________________________________________________\n",
      "gaussian_graph_convolution_2 (G (None, 7)            224         gaussian_graph_convolution_1[0][0\n",
      "                                                                 gaussian_graph_convolution_1[0][1\n",
      "                                                                 graph[0][0]                      \n",
      "==================================================================================================\n",
      "Total params: 46,080\n",
      "Trainable params: 46,080\n",
      "Non-trainable params: 0\n",
      "__________________________________________________________________________________________________\n"
     ]
    }
   ],
   "source": [
    "# create the layers\n",
    "H = Dropout(0.6)(X_in)\n",
    "M1, S1 = GaussianGraphConvolution(16,\n",
    "    is_first=True,\n",
    "    dropout=0.6\n",
    ")([H, A_in])\n",
    "Y = GaussianGraphConvolution(y.shape[1],\n",
    "    is_last=True,\n",
    "    last_activation='softmax',\n",
    ")([M1, S1, A_in])\n",
    "# create the model\n",
    "rgcn = Model(inputs=[X_in, A_in], outputs=Y)\n",
    "rgcn.compile(loss='categorical_crossentropy', optimizer=Adam(lr=0.01), weighted_metrics=['acc'])\n",
    "rgcn.add_loss(kl_reg(M1, S1, 5e-4), [M1, S1])\n",
    "rgcn.summary()"
   ]
  },
  {
   "cell_type": "code",
   "execution_count": 14,
   "metadata": {},
   "outputs": [
    {
     "name": "stdout",
     "output_type": "stream",
     "text": [
      "Train on 2708 samples, validate on 2708 samples\n",
      "Epoch 1/200\n",
      "2708/2708 [==============================] - 0s 112us/step - loss: 1.9845 - weighted_acc: 0.2214 - val_loss: nan - val_weighted_acc: 0.1267\n",
      "Epoch 2/200\n",
      "2708/2708 [==============================] - 0s 18us/step - loss: nan - weighted_acc: 0.1500 - val_loss: nan - val_weighted_acc: 0.1267\n",
      "Epoch 3/200\n",
      "2708/2708 [==============================] - 0s 20us/step - loss: nan - weighted_acc: 0.1500 - val_loss: nan - val_weighted_acc: 0.1267\n",
      "Epoch 4/200\n",
      "2708/2708 [==============================] - 0s 20us/step - loss: nan - weighted_acc: 0.1500 - val_loss: nan - val_weighted_acc: 0.1267\n",
      "Epoch 5/200\n",
      "2708/2708 [==============================] - 0s 20us/step - loss: nan - weighted_acc: 0.1500 - val_loss: nan - val_weighted_acc: 0.1267\n",
      "Epoch 6/200\n",
      "2708/2708 [==============================] - 0s 18us/step - loss: nan - weighted_acc: 0.1500 - val_loss: nan - val_weighted_acc: 0.1267\n",
      "Epoch 7/200\n",
      "2708/2708 [==============================] - 0s 20us/step - loss: nan - weighted_acc: 0.1500 - val_loss: nan - val_weighted_acc: 0.1267\n",
      "Epoch 8/200\n",
      "2708/2708 [==============================] - 0s 19us/step - loss: nan - weighted_acc: 0.1500 - val_loss: nan - val_weighted_acc: 0.1267\n",
      "Epoch 9/200\n",
      "2708/2708 [==============================] - 0s 21us/step - loss: nan - weighted_acc: 0.1500 - val_loss: nan - val_weighted_acc: 0.1267\n",
      "Epoch 10/200\n",
      "2708/2708 [==============================] - 0s 18us/step - loss: nan - weighted_acc: 0.1500 - val_loss: nan - val_weighted_acc: 0.1267\n",
      "2708/2708 [==============================] - 0s 6us/step\n"
     ]
    },
    {
     "data": {
      "text/plain": [
       "0.07199999690055847"
      ]
     },
     "execution_count": 14,
     "metadata": {},
     "output_type": "execute_result"
    }
   ],
   "source": [
    "train(rgcn)[1]"
   ]
  },
  {
   "cell_type": "markdown",
   "metadata": {},
   "source": [
    " "
   ]
  }
 ],
 "metadata": {
  "kernelspec": {
   "display_name": "Python 3",
   "language": "python",
   "name": "python3"
  },
  "language_info": {
   "codemirror_mode": {
    "name": "ipython",
    "version": 3
   },
   "file_extension": ".py",
   "mimetype": "text/x-python",
   "name": "python",
   "nbconvert_exporter": "python",
   "pygments_lexer": "ipython3",
   "version": "3.7.3"
  }
 },
 "nbformat": 4,
 "nbformat_minor": 2
}
