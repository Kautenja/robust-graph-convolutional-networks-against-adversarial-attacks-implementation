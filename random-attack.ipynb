{
 "cells": [
  {
   "cell_type": "code",
   "execution_count": 1,
   "metadata": {},
   "outputs": [
    {
     "name": "stderr",
     "output_type": "stream",
     "text": [
      "Using TensorFlow backend.\n"
     ]
    }
   ],
   "source": [
    "import os\n",
    "from itertools import permutations \n",
    "import sys\n",
    "import numpy as np\n",
    "import scipy.sparse as sp\n",
    "from tqdm import tqdm\n",
    "from keras.layers import Input, Dropout\n",
    "from keras.models import Model\n",
    "from keras.optimizers import Adam\n",
    "from keras.regularizers import l2"
   ]
  },
  {
   "cell_type": "code",
   "execution_count": 2,
   "metadata": {},
   "outputs": [],
   "source": [
    "# the path of execution\n",
    "EXE_PATH = os.path.abspath(os.path.curdir)\n",
    "# the path of the vendor files\n",
    "VENDOR_PATH = os.path.join(EXE_PATH, 'vendor')\n",
    "# the vendors to include in the system path\n",
    "VENDORS = ['keras-gcn']\n",
    "# create the absolute paths for all vendors\n",
    "VENDORS = list(map(lambda x: os.path.join(VENDOR_PATH, x), VENDORS))\n",
    "# update the Python path to include necessary vendor module\n",
    "sys.path += VENDORS"
   ]
  },
  {
   "cell_type": "code",
   "execution_count": 3,
   "metadata": {},
   "outputs": [],
   "source": [
    "from kegra.layers.graph import GraphConvolution\n",
    "from kegra.utils import load_data, preprocess_adj, get_splits, evaluate_preds\n",
    "from ggcn import GaussianGraphConvolution, kl_reg"
   ]
  },
  {
   "cell_type": "markdown",
   "metadata": {},
   "source": [
    "# Data"
   ]
  },
  {
   "cell_type": "code",
   "execution_count": 4,
   "metadata": {},
   "outputs": [],
   "source": [
    "def attack_edges(attack_ratio):\n",
    "    def _attack_edges(edges):\n",
    "        all_edges = set(permutations(list(range(edges.max())), 2))\n",
    "        edges = set(map(tuple, edges))\n",
    "        sample_edges = all_edges - edges\n",
    "        attack_edges = np.random.choice(list(range(len(sample_edges))), \n",
    "            size=int(len(edges) * attack_ratio), \n",
    "            replace=False)\n",
    "        attack_edges = [edge for (i, edge) in enumerate(list(sample_edges)) if i in attack_edges]\n",
    "        edges = list(edges) + attack_edges\n",
    "        return np.array(edges)\n",
    "    return _attack_edges"
   ]
  },
  {
   "cell_type": "code",
   "execution_count": 5,
   "metadata": {},
   "outputs": [
    {
     "name": "stdout",
     "output_type": "stream",
     "text": [
      "Loading cora dataset...\n",
      "Dataset has 2708 nodes, 5429 edges, 1433 features.\n"
     ]
    }
   ],
   "source": [
    "X, A, y = load_data('data/cora/', dataset='cora', attack_edges=attack_edges(0))\n",
    "X /= X.sum(1).reshape(-1, 1)\n",
    "A = preprocess_adj(A)\n",
    "y_train, y_val, y_test, idx_train, idx_val, idx_test, train_mask = get_splits(y)"
   ]
  },
  {
   "cell_type": "code",
   "execution_count": 6,
   "metadata": {},
   "outputs": [
    {
     "data": {
      "text/plain": [
       "matrix([[0., 0., 0., ..., 0., 0., 0.],\n",
       "        [0., 0., 0., ..., 0., 0., 0.],\n",
       "        [0., 0., 0., ..., 0., 0., 0.],\n",
       "        ...,\n",
       "        [0., 0., 0., ..., 0., 0., 0.],\n",
       "        [0., 0., 0., ..., 0., 0., 0.],\n",
       "        [0., 0., 0., ..., 0., 0., 0.]], dtype=float32)"
      ]
     },
     "execution_count": 6,
     "metadata": {},
     "output_type": "execute_result"
    }
   ],
   "source": [
    "X"
   ]
  },
  {
   "cell_type": "code",
   "execution_count": 7,
   "metadata": {},
   "outputs": [
    {
     "data": {
      "text/plain": [
       "<2708x2708 sparse matrix of type '<class 'numpy.float64'>'\n",
       "\twith 13264 stored elements in Compressed Sparse Row format>"
      ]
     },
     "execution_count": 7,
     "metadata": {},
     "output_type": "execute_result"
    }
   ],
   "source": [
    "A"
   ]
  },
  {
   "cell_type": "code",
   "execution_count": 8,
   "metadata": {},
   "outputs": [
    {
     "data": {
      "text/plain": [
       "array([[0, 0, 1, ..., 0, 0, 0],\n",
       "       [0, 0, 0, ..., 1, 0, 0],\n",
       "       [0, 0, 0, ..., 0, 0, 1],\n",
       "       ...,\n",
       "       [0, 1, 0, ..., 0, 0, 0],\n",
       "       [1, 0, 0, ..., 0, 0, 0],\n",
       "       [0, 0, 1, ..., 0, 0, 0]], dtype=int32)"
      ]
     },
     "execution_count": 8,
     "metadata": {},
     "output_type": "execute_result"
    }
   ],
   "source": [
    "y"
   ]
  },
  {
   "cell_type": "code",
   "execution_count": 9,
   "metadata": {},
   "outputs": [],
   "source": [
    "graph = [X, A]"
   ]
  },
  {
   "cell_type": "code",
   "execution_count": 10,
   "metadata": {},
   "outputs": [
    {
     "name": "stdout",
     "output_type": "stream",
     "text": [
      "WARNING:tensorflow:From /Users/jameskauten/Dropbox/PhD/coursework/07 - Fall 2019/COMP6130 - Data Mining/proj/code/.env/lib/python3.7/site-packages/keras/backend/tensorflow_backend.py:515: The name tf.sparse_placeholder is deprecated. Please use tf.compat.v1.sparse_placeholder instead.\n",
      "\n"
     ]
    },
    {
     "data": {
      "text/plain": [
       "[<tensorflow.python.framework.sparse_tensor.SparseTensor at 0x12b524250>]"
      ]
     },
     "execution_count": 10,
     "metadata": {},
     "output_type": "execute_result"
    }
   ],
   "source": [
    "G = [Input(shape=(None, None), batch_shape=(None, None), sparse=True, name='graph')]\n",
    "G"
   ]
  },
  {
   "cell_type": "code",
   "execution_count": 11,
   "metadata": {},
   "outputs": [
    {
     "name": "stdout",
     "output_type": "stream",
     "text": [
      "WARNING:tensorflow:From /Users/jameskauten/Dropbox/PhD/coursework/07 - Fall 2019/COMP6130 - Data Mining/proj/code/.env/lib/python3.7/site-packages/keras/backend/tensorflow_backend.py:517: The name tf.placeholder is deprecated. Please use tf.compat.v1.placeholder instead.\n",
      "\n"
     ]
    },
    {
     "data": {
      "text/plain": [
       "<tf.Tensor 'features:0' shape=(?, 1433) dtype=float32>"
      ]
     },
     "execution_count": 11,
     "metadata": {},
     "output_type": "execute_result"
    }
   ],
   "source": [
    "X_in = Input(shape=(X.shape[1], ), name='features')\n",
    "X_in"
   ]
  },
  {
   "cell_type": "markdown",
   "metadata": {},
   "source": [
    "# Model"
   ]
  },
  {
   "cell_type": "markdown",
   "metadata": {},
   "source": [
    "## Training Loop"
   ]
  },
  {
   "cell_type": "code",
   "execution_count": 12,
   "metadata": {},
   "outputs": [],
   "source": [
    "def train(model, epochs=200, patience=10):\n",
    "    wait = 0\n",
    "    preds = None\n",
    "    best_val_loss = 99999\n",
    "    # Fit\n",
    "    progress = tqdm(range(1, epochs + 1))\n",
    "    for epoch in progress:\n",
    "        # Single training iteration (we mask nodes without labels for loss calculation)\n",
    "        model.fit(graph, y_train, sample_weight=train_mask,\n",
    "                  batch_size=A.shape[0], epochs=1, shuffle=False, verbose=0)\n",
    "        # Predict on full dataset\n",
    "        preds = model.predict(graph, batch_size=A.shape[0])\n",
    "        # Train / validation scores\n",
    "        train_val_loss, train_val_acc = evaluate_preds(preds, [y_train, y_val], [idx_train, idx_val])\n",
    "        # update the progress bar\n",
    "        progress.set_postfix(\n",
    "#             train_loss=train_val_loss[0],\n",
    "            train_acc=train_val_acc[0],\n",
    "#             val_loss=train_val_loss[1],\n",
    "            val_acc=train_val_acc[1],\n",
    "        )\n",
    "        # Early stopping\n",
    "        if train_val_loss[1] < best_val_loss:\n",
    "            best_val_loss = train_val_loss[1]\n",
    "            wait = 0\n",
    "        else:\n",
    "            if wait >= patience:\n",
    "                break\n",
    "            wait += 1\n",
    "    # return test set evaluation metrics\n",
    "    return evaluate_preds(preds, [y_test], [idx_test])"
   ]
  },
  {
   "cell_type": "markdown",
   "metadata": {},
   "source": [
    "## GCN (baseline)"
   ]
  },
  {
   "cell_type": "code",
   "execution_count": 13,
   "metadata": {},
   "outputs": [
    {
     "name": "stdout",
     "output_type": "stream",
     "text": [
      "WARNING:tensorflow:From /Users/jameskauten/Dropbox/PhD/coursework/07 - Fall 2019/COMP6130 - Data Mining/proj/code/.env/lib/python3.7/site-packages/keras/backend/tensorflow_backend.py:74: The name tf.get_default_graph is deprecated. Please use tf.compat.v1.get_default_graph instead.\n",
      "\n",
      "WARNING:tensorflow:From /Users/jameskauten/Dropbox/PhD/coursework/07 - Fall 2019/COMP6130 - Data Mining/proj/code/.env/lib/python3.7/site-packages/keras/backend/tensorflow_backend.py:133: The name tf.placeholder_with_default is deprecated. Please use tf.compat.v1.placeholder_with_default instead.\n",
      "\n",
      "WARNING:tensorflow:From /Users/jameskauten/Dropbox/PhD/coursework/07 - Fall 2019/COMP6130 - Data Mining/proj/code/.env/lib/python3.7/site-packages/keras/backend/tensorflow_backend.py:3445: calling dropout (from tensorflow.python.ops.nn_ops) with keep_prob is deprecated and will be removed in a future version.\n",
      "Instructions for updating:\n",
      "Please use `rate` instead of `keep_prob`. Rate should be set to `rate = 1 - keep_prob`.\n",
      "WARNING:tensorflow:From /Users/jameskauten/Dropbox/PhD/coursework/07 - Fall 2019/COMP6130 - Data Mining/proj/code/.env/lib/python3.7/site-packages/keras/backend/tensorflow_backend.py:4138: The name tf.random_uniform is deprecated. Please use tf.random.uniform instead.\n",
      "\n",
      "WARNING:tensorflow:From /Users/jameskauten/Dropbox/PhD/coursework/07 - Fall 2019/COMP6130 - Data Mining/proj/code/.env/lib/python3.7/site-packages/keras/optimizers.py:790: The name tf.train.Optimizer is deprecated. Please use tf.compat.v1.train.Optimizer instead.\n",
      "\n",
      "__________________________________________________________________________________________________\n",
      "Layer (type)                    Output Shape         Param #     Connected to                     \n",
      "==================================================================================================\n",
      "features (InputLayer)           (None, 1433)         0                                            \n",
      "__________________________________________________________________________________________________\n",
      "dropout_1 (Dropout)             (None, 1433)         0           features[0][0]                   \n",
      "__________________________________________________________________________________________________\n",
      "graph (InputLayer)              (None, None)         0                                            \n",
      "__________________________________________________________________________________________________\n",
      "graph_convolution_1 (GraphConvo (None, 32)           45888       dropout_1[0][0]                  \n",
      "                                                                 graph[0][0]                      \n",
      "__________________________________________________________________________________________________\n",
      "dropout_2 (Dropout)             (None, 32)           0           graph_convolution_1[0][0]        \n",
      "__________________________________________________________________________________________________\n",
      "graph_convolution_2 (GraphConvo (None, 7)            231         dropout_2[0][0]                  \n",
      "                                                                 graph[0][0]                      \n",
      "==================================================================================================\n",
      "Total params: 46,119\n",
      "Trainable params: 46,119\n",
      "Non-trainable params: 0\n",
      "__________________________________________________________________________________________________\n"
     ]
    }
   ],
   "source": [
    "# Define model architecture\n",
    "# NOTE: We pass arguments for graph convolutional layers as a list of tensors.\n",
    "# This is somewhat hacky, more elegant options would require rewriting the Layer base class.\n",
    "H = Dropout(0.5)(X_in)\n",
    "H = GraphConvolution(32, 1, activation='relu', kernel_regularizer=l2(5e-4))([H]+G)\n",
    "H = Dropout(0.5)(H)\n",
    "Y = GraphConvolution(y.shape[1], 1, activation='softmax')([H]+G)\n",
    "gcn = Model(inputs=[X_in]+G, outputs=Y)\n",
    "gcn.compile(loss='categorical_crossentropy', optimizer=Adam(lr=0.01))\n",
    "gcn.summary()"
   ]
  },
  {
   "cell_type": "code",
   "execution_count": 14,
   "metadata": {},
   "outputs": [
    {
     "name": "stderr",
     "output_type": "stream",
     "text": [
      "\r",
      "  0%|          | 0/200 [00:00<?, ?it/s]"
     ]
    },
    {
     "name": "stdout",
     "output_type": "stream",
     "text": [
      "WARNING:tensorflow:From /Users/jameskauten/Dropbox/PhD/coursework/07 - Fall 2019/COMP6130 - Data Mining/proj/code/.env/lib/python3.7/site-packages/tensorflow/python/ops/math_grad.py:1250: add_dispatch_support.<locals>.wrapper (from tensorflow.python.ops.array_ops) is deprecated and will be removed in a future version.\n",
      "Instructions for updating:\n",
      "Use tf.where in 2.0, which has the same broadcast rule as np.where\n"
     ]
    },
    {
     "name": "stderr",
     "output_type": "stream",
     "text": [
      "100%|██████████| 200/200 [00:16<00:00, 12.00it/s, train_acc=0.986, val_acc=0.83] \n"
     ]
    },
    {
     "data": {
      "text/plain": [
       "[0.816]"
      ]
     },
     "execution_count": 14,
     "metadata": {},
     "output_type": "execute_result"
    }
   ],
   "source": [
    "train(gcn)[1]"
   ]
  },
  {
   "cell_type": "markdown",
   "metadata": {},
   "source": [
    "## Gaussian Graph Convolution"
   ]
  },
  {
   "cell_type": "code",
   "execution_count": 15,
   "metadata": {},
   "outputs": [],
   "source": [
    "B1 = 5e-4\n",
    "B2 = 5e-4"
   ]
  },
  {
   "cell_type": "code",
   "execution_count": 18,
   "metadata": {
    "scrolled": false
   },
   "outputs": [
    {
     "name": "stdout",
     "output_type": "stream",
     "text": [
      "WARNING:tensorflow:Large dropout rate: 0.6 (>0.5). In TensorFlow 2.x, dropout() uses dropout rate instead of keep_prob. Please ensure that this is intended.\n",
      "WARNING:tensorflow:Large dropout rate: 0.6 (>0.5). In TensorFlow 2.x, dropout() uses dropout rate instead of keep_prob. Please ensure that this is intended.\n",
      "__________________________________________________________________________________________________\n",
      "Layer (type)                    Output Shape         Param #     Connected to                     \n",
      "==================================================================================================\n",
      "features (InputLayer)           (None, 1433)         0                                            \n",
      "__________________________________________________________________________________________________\n",
      "dropout_4 (Dropout)             (None, 1433)         0           features[0][0]                   \n",
      "__________________________________________________________________________________________________\n",
      "graph (InputLayer)              (None, None)         0                                            \n",
      "__________________________________________________________________________________________________\n",
      "gaussian_graph_convolution_3 (G [(None, 16), (None,  45856       dropout_4[0][0]                  \n",
      "                                                                 graph[0][0]                      \n",
      "__________________________________________________________________________________________________\n",
      "gaussian_graph_convolution_4 (G (None, 7)            224         gaussian_graph_convolution_3[0][0\n",
      "                                                                 gaussian_graph_convolution_3[0][1\n",
      "                                                                 graph[0][0]                      \n",
      "==================================================================================================\n",
      "Total params: 46,080\n",
      "Trainable params: 46,080\n",
      "Non-trainable params: 0\n",
      "__________________________________________________________________________________________________\n"
     ]
    }
   ],
   "source": [
    "H = Dropout(0.6)(X_in)\n",
    "H1 = GaussianGraphConvolution(16,\n",
    "    is_first=True,\n",
    "    mean_activation='elu',\n",
    "    mean_regularizer=l2(B1),\n",
    "    variance_regularizer=l2(B1),\n",
    "    variance_activation='relu',\n",
    "    dropout=0.6\n",
    ")([H]+G)\n",
    "Y = GaussianGraphConvolution(y.shape[1],\n",
    "    is_last=True,\n",
    "    mean_activation='elu',\n",
    "    mean_regularizer=l2(B1),\n",
    "    variance_regularizer=l2(B1),\n",
    "    variance_activation='relu',\n",
    "    last_activation='softmax',\n",
    ")(H1+G)\n",
    "model = Model(inputs=[X_in]+G, outputs=Y)\n",
    "model.compile(loss='categorical_crossentropy', optimizer=Adam(lr=0.01))\n",
    "model.add_loss(kl_reg(*H1, B2), H1)\n",
    "model.summary()"
   ]
  },
  {
   "cell_type": "code",
   "execution_count": 19,
   "metadata": {},
   "outputs": [
    {
     "name": "stderr",
     "output_type": "stream",
     "text": [
      "\n",
      "  0%|          | 0/200 [00:00<?, ?it/s]\u001b[A\n",
      "  0%|          | 0/200 [00:00<?, ?it/s, train_acc=0.521, val_acc=0.477]\u001b[A\n",
      "  0%|          | 1/200 [00:00<03:00,  1.11it/s, train_acc=0.521, val_acc=0.477]\u001b[A\n",
      "  0%|          | 1/200 [00:00<03:00,  1.11it/s, train_acc=0.514, val_acc=0.5]  \u001b[A\n",
      "  0%|          | 1/200 [00:01<03:00,  1.11it/s, train_acc=0.543, val_acc=0.453]\u001b[A\n",
      "  2%|▏         | 3/200 [00:01<02:10,  1.51it/s, train_acc=0.543, val_acc=0.453]\u001b[A\n",
      "  2%|▏         | 3/200 [00:01<02:10,  1.51it/s, train_acc=0.479, val_acc=0.437]\u001b[A\n",
      "  2%|▏         | 4/200 [00:01<01:37,  2.02it/s, train_acc=0.479, val_acc=0.437]\u001b[A\n",
      "  2%|▏         | 4/200 [00:01<01:37,  2.02it/s, train_acc=0.486, val_acc=0.417]\u001b[A\n",
      "  2%|▎         | 5/200 [00:01<01:13,  2.65it/s, train_acc=0.486, val_acc=0.417]\u001b[A\n",
      "  2%|▎         | 5/200 [00:01<01:13,  2.65it/s, train_acc=0.471, val_acc=0.437]\u001b[A\n",
      "  2%|▎         | 5/200 [00:01<01:13,  2.65it/s, train_acc=0.479, val_acc=0.44] \u001b[A\n",
      "  4%|▎         | 7/200 [00:01<00:56,  3.42it/s, train_acc=0.479, val_acc=0.44]\u001b[A\n",
      "  4%|▎         | 7/200 [00:01<00:56,  3.42it/s, train_acc=0.45, val_acc=0.42] \u001b[A\n",
      "  4%|▍         | 8/200 [00:01<00:46,  4.09it/s, train_acc=0.45, val_acc=0.42]\u001b[A\n",
      "  4%|▍         | 8/200 [00:01<00:46,  4.09it/s, train_acc=0.457, val_acc=0.42]\u001b[A\n",
      "  4%|▍         | 9/200 [00:01<00:40,  4.73it/s, train_acc=0.457, val_acc=0.42]\u001b[A\n",
      "  4%|▍         | 9/200 [00:01<00:40,  4.73it/s, train_acc=0.45, val_acc=0.427]\u001b[A\n",
      "  5%|▌         | 10/200 [00:01<00:35,  5.40it/s, train_acc=0.45, val_acc=0.427]\u001b[A\n",
      "  5%|▌         | 10/200 [00:02<00:35,  5.40it/s, train_acc=0.45, val_acc=0.437]\u001b[A\n",
      "  6%|▌         | 11/200 [00:02<00:31,  5.98it/s, train_acc=0.45, val_acc=0.437]\u001b[A\n",
      "  6%|▌         | 11/200 [00:02<00:31,  5.98it/s, train_acc=0.45, val_acc=0.427]\u001b[A\n",
      "  6%|▌         | 12/200 [00:02<00:28,  6.62it/s, train_acc=0.45, val_acc=0.427]\u001b[A\n",
      "  6%|▌         | 12/200 [00:02<00:28,  6.62it/s, train_acc=0.471, val_acc=0.42]\u001b[A\n",
      "  6%|▋         | 13/200 [00:02<00:25,  7.33it/s, train_acc=0.471, val_acc=0.42]\u001b[A\n",
      "  6%|▋         | 13/200 [00:02<00:25,  7.33it/s, train_acc=0.471, val_acc=0.427]\u001b[A\n",
      "  7%|▋         | 14/200 [00:02<00:23,  7.92it/s, train_acc=0.471, val_acc=0.427]\u001b[A\n",
      "  7%|▋         | 14/200 [00:02<00:23,  7.92it/s, train_acc=0.464, val_acc=0.423]\u001b[A\n",
      "  7%|▋         | 14/200 [00:02<00:23,  7.92it/s, train_acc=0.471, val_acc=0.407]\u001b[A\n",
      "  8%|▊         | 16/200 [00:02<00:21,  8.59it/s, train_acc=0.471, val_acc=0.407]\u001b[A\n",
      "  8%|▊         | 16/200 [00:02<00:21,  8.59it/s, train_acc=0.436, val_acc=0.45] \u001b[A\n",
      "  8%|▊         | 16/200 [00:02<00:21,  8.59it/s, train_acc=0.471, val_acc=0.443]\u001b[A\n",
      "  9%|▉         | 18/200 [00:02<00:20,  8.83it/s, train_acc=0.471, val_acc=0.443]\u001b[A\n",
      "  9%|▉         | 18/200 [00:02<00:20,  8.83it/s, train_acc=0.45, val_acc=0.43]  \u001b[A\n",
      " 10%|▉         | 19/200 [00:02<00:21,  8.35it/s, train_acc=0.45, val_acc=0.43]\u001b[A\n",
      " 10%|▉         | 19/200 [00:03<00:21,  8.35it/s, train_acc=0.464, val_acc=0.427]\u001b[A\n",
      " 10%|█         | 20/200 [00:03<00:22,  8.11it/s, train_acc=0.464, val_acc=0.427]\u001b[A\n",
      " 10%|█         | 20/200 [00:03<00:22,  8.11it/s, train_acc=0.479, val_acc=0.423]\u001b[A\n",
      " 10%|█         | 21/200 [00:03<00:22,  8.09it/s, train_acc=0.479, val_acc=0.423]\u001b[A\n",
      " 10%|█         | 21/200 [00:03<00:22,  8.09it/s, train_acc=0.464, val_acc=0.427]\u001b[A\n",
      " 11%|█         | 22/200 [00:03<00:22,  8.08it/s, train_acc=0.464, val_acc=0.427]\u001b[A\n",
      " 11%|█         | 22/200 [00:03<00:22,  8.08it/s, train_acc=0.457, val_acc=0.423]\u001b[A\n",
      " 12%|█▏        | 23/200 [00:03<00:21,  8.19it/s, train_acc=0.457, val_acc=0.423]\u001b[A\n",
      " 12%|█▏        | 23/200 [00:03<00:21,  8.19it/s, train_acc=0.486, val_acc=0.44] \u001b[A\n",
      " 12%|█▏        | 23/200 [00:03<00:21,  8.19it/s, train_acc=0.5, val_acc=0.46]  \u001b[A\n",
      " 12%|█▎        | 25/200 [00:03<00:20,  8.65it/s, train_acc=0.5, val_acc=0.46]\u001b[A\n",
      " 12%|█▎        | 25/200 [00:03<00:20,  8.65it/s, train_acc=0.507, val_acc=0.45]\u001b[A\n",
      " 13%|█▎        | 26/200 [00:03<00:19,  8.86it/s, train_acc=0.507, val_acc=0.45]\u001b[A\n",
      " 13%|█▎        | 26/200 [00:03<00:19,  8.86it/s, train_acc=0.529, val_acc=0.467]\u001b[A\n",
      " 14%|█▎        | 27/200 [00:03<00:18,  9.12it/s, train_acc=0.529, val_acc=0.467]\u001b[A\n",
      " 14%|█▎        | 27/200 [00:03<00:18,  9.12it/s, train_acc=0.514, val_acc=0.45] \u001b[A\n",
      " 14%|█▍        | 28/200 [00:03<00:20,  8.58it/s, train_acc=0.514, val_acc=0.45]\u001b[A\n",
      " 14%|█▍        | 28/200 [00:04<00:20,  8.58it/s, train_acc=0.507, val_acc=0.447]\u001b[A\n",
      " 14%|█▍        | 29/200 [00:04<00:21,  8.10it/s, train_acc=0.507, val_acc=0.447]\u001b[A\n",
      " 14%|█▍        | 29/200 [00:04<00:21,  8.10it/s, train_acc=0.507, val_acc=0.467]\u001b[A\n",
      " 15%|█▌        | 30/200 [00:04<00:22,  7.70it/s, train_acc=0.507, val_acc=0.467]\u001b[A\n",
      " 15%|█▌        | 30/200 [00:04<00:22,  7.70it/s, train_acc=0.55, val_acc=0.487] \u001b[A\n",
      " 16%|█▌        | 31/200 [00:04<00:22,  7.56it/s, train_acc=0.55, val_acc=0.487]\u001b[A\n",
      " 16%|█▌        | 31/200 [00:04<00:22,  7.56it/s, train_acc=0.543, val_acc=0.457]\u001b[A\n",
      " 16%|█▌        | 32/200 [00:04<00:21,  7.81it/s, train_acc=0.543, val_acc=0.457]\u001b[A\n",
      " 16%|█▌        | 32/200 [00:04<00:21,  7.81it/s, train_acc=0.564, val_acc=0.49] \u001b[A\n",
      " 16%|█▋        | 33/200 [00:04<00:20,  8.01it/s, train_acc=0.564, val_acc=0.49]\u001b[A\n",
      " 16%|█▋        | 33/200 [00:04<00:20,  8.01it/s, train_acc=0.593, val_acc=0.51]\u001b[A\n",
      " 17%|█▋        | 34/200 [00:04<00:20,  8.01it/s, train_acc=0.593, val_acc=0.51]\u001b[A\n",
      " 17%|█▋        | 34/200 [00:04<00:20,  8.01it/s, train_acc=0.571, val_acc=0.497]\u001b[A\n",
      " 18%|█▊        | 35/200 [00:04<00:20,  8.04it/s, train_acc=0.571, val_acc=0.497]\u001b[A\n",
      " 18%|█▊        | 35/200 [00:04<00:20,  8.04it/s, train_acc=0.6, val_acc=0.547]  \u001b[A\n",
      " 18%|█▊        | 36/200 [00:04<00:19,  8.21it/s, train_acc=0.6, val_acc=0.547]\u001b[A\n",
      " 18%|█▊        | 36/200 [00:05<00:19,  8.21it/s, train_acc=0.636, val_acc=0.55]\u001b[A\n",
      " 18%|█▊        | 37/200 [00:05<00:19,  8.47it/s, train_acc=0.636, val_acc=0.55]\u001b[A\n",
      " 18%|█▊        | 37/200 [00:05<00:19,  8.47it/s, train_acc=0.643, val_acc=0.56]\u001b[A\n",
      " 19%|█▉        | 38/200 [00:05<00:18,  8.73it/s, train_acc=0.643, val_acc=0.56]\u001b[A\n",
      " 19%|█▉        | 38/200 [00:05<00:18,  8.73it/s, train_acc=0.664, val_acc=0.573]\u001b[A\n",
      " 20%|█▉        | 39/200 [00:05<00:19,  8.25it/s, train_acc=0.664, val_acc=0.573]\u001b[A\n",
      " 20%|█▉        | 39/200 [00:05<00:19,  8.25it/s, train_acc=0.657, val_acc=0.56] \u001b[A\n",
      " 20%|██        | 40/200 [00:05<00:19,  8.03it/s, train_acc=0.657, val_acc=0.56]\u001b[A\n",
      " 20%|██        | 40/200 [00:05<00:19,  8.03it/s, train_acc=0.729, val_acc=0.603]\u001b[A\n",
      " 20%|██        | 41/200 [00:05<00:20,  7.66it/s, train_acc=0.729, val_acc=0.603]\u001b[A\n",
      " 20%|██        | 41/200 [00:05<00:20,  7.66it/s, train_acc=0.729, val_acc=0.607]\u001b[A\n",
      " 21%|██        | 42/200 [00:05<00:20,  7.67it/s, train_acc=0.729, val_acc=0.607]\u001b[A\n",
      " 21%|██        | 42/200 [00:05<00:20,  7.67it/s, train_acc=0.75, val_acc=0.637] \u001b[A\n",
      " 22%|██▏       | 43/200 [00:05<00:20,  7.75it/s, train_acc=0.75, val_acc=0.637]\u001b[A\n",
      " 22%|██▏       | 43/200 [00:05<00:20,  7.75it/s, train_acc=0.743, val_acc=0.65]\u001b[A\n",
      " 22%|██▏       | 44/200 [00:05<00:19,  8.16it/s, train_acc=0.743, val_acc=0.65]\u001b[A\n",
      " 22%|██▏       | 44/200 [00:06<00:19,  8.16it/s, train_acc=0.743, val_acc=0.653]\u001b[A\n",
      " 22%|██▎       | 45/200 [00:06<00:19,  7.89it/s, train_acc=0.743, val_acc=0.653]\u001b[A\n",
      " 22%|██▎       | 45/200 [00:06<00:19,  7.89it/s, train_acc=0.757, val_acc=0.643]\u001b[A\n",
      " 23%|██▎       | 46/200 [00:06<00:19,  7.91it/s, train_acc=0.757, val_acc=0.643]\u001b[A\n",
      " 23%|██▎       | 46/200 [00:06<00:19,  7.91it/s, train_acc=0.779, val_acc=0.713]\u001b[A\n",
      " 24%|██▎       | 47/200 [00:06<00:19,  7.81it/s, train_acc=0.779, val_acc=0.713]\u001b[A\n",
      " 24%|██▎       | 47/200 [00:06<00:19,  7.81it/s, train_acc=0.807, val_acc=0.707]\u001b[A\n",
      " 24%|██▍       | 48/200 [00:06<00:19,  7.86it/s, train_acc=0.807, val_acc=0.707]\u001b[A\n",
      " 24%|██▍       | 48/200 [00:06<00:19,  7.86it/s, train_acc=0.8, val_acc=0.677]  \u001b[A\n",
      " 24%|██▍       | 49/200 [00:06<00:18,  7.97it/s, train_acc=0.8, val_acc=0.677]\u001b[A\n",
      " 24%|██▍       | 49/200 [00:06<00:18,  7.97it/s, train_acc=0.814, val_acc=0.687]\u001b[A\n",
      " 25%|██▌       | 50/200 [00:06<00:18,  8.11it/s, train_acc=0.814, val_acc=0.687]\u001b[A\n",
      " 25%|██▌       | 50/200 [00:06<00:18,  8.11it/s, train_acc=0.793, val_acc=0.717]\u001b[A\n",
      " 26%|██▌       | 51/200 [00:06<00:18,  7.98it/s, train_acc=0.793, val_acc=0.717]\u001b[A\n"
     ]
    },
    {
     "name": "stderr",
     "output_type": "stream",
     "text": [
      " 26%|██▌       | 51/200 [00:06<00:18,  7.98it/s, train_acc=0.807, val_acc=0.713]\u001b[A\n",
      " 26%|██▌       | 52/200 [00:06<00:19,  7.73it/s, train_acc=0.807, val_acc=0.713]\u001b[A\n",
      " 26%|██▌       | 52/200 [00:07<00:19,  7.73it/s, train_acc=0.821, val_acc=0.727]\u001b[A\n",
      " 26%|██▋       | 53/200 [00:07<00:18,  7.75it/s, train_acc=0.821, val_acc=0.727]\u001b[A\n",
      " 26%|██▋       | 53/200 [00:07<00:18,  7.75it/s, train_acc=0.8, val_acc=0.717]  \u001b[A\n",
      " 27%|██▋       | 54/200 [00:07<00:18,  7.93it/s, train_acc=0.8, val_acc=0.717]\u001b[A\n",
      " 27%|██▋       | 54/200 [00:07<00:18,  7.93it/s, train_acc=0.836, val_acc=0.707]\u001b[A\n",
      " 28%|██▊       | 55/200 [00:07<00:19,  7.51it/s, train_acc=0.836, val_acc=0.707]\u001b[A\n",
      " 28%|██▊       | 55/200 [00:07<00:19,  7.51it/s, train_acc=0.829, val_acc=0.75] \u001b[A\n",
      " 28%|██▊       | 56/200 [00:07<00:20,  7.11it/s, train_acc=0.829, val_acc=0.75]\u001b[A\n",
      " 28%|██▊       | 56/200 [00:07<00:20,  7.11it/s, train_acc=0.85, val_acc=0.727]\u001b[A\n",
      " 28%|██▊       | 57/200 [00:07<00:19,  7.22it/s, train_acc=0.85, val_acc=0.727]\u001b[A\n",
      " 28%|██▊       | 57/200 [00:07<00:19,  7.22it/s, train_acc=0.836, val_acc=0.747]\u001b[A\n",
      " 29%|██▉       | 58/200 [00:07<00:19,  7.39it/s, train_acc=0.836, val_acc=0.747]\u001b[A\n",
      " 29%|██▉       | 58/200 [00:07<00:19,  7.39it/s, train_acc=0.85, val_acc=0.76]  \u001b[A\n",
      " 30%|██▉       | 59/200 [00:07<00:20,  7.01it/s, train_acc=0.85, val_acc=0.76]\u001b[A\n",
      " 30%|██▉       | 59/200 [00:08<00:20,  7.01it/s, train_acc=0.871, val_acc=0.747]\u001b[A\n",
      " 30%|███       | 60/200 [00:08<00:20,  6.86it/s, train_acc=0.871, val_acc=0.747]\u001b[A\n",
      " 30%|███       | 60/200 [00:08<00:20,  6.86it/s, train_acc=0.871, val_acc=0.767]\u001b[A\n",
      " 30%|███       | 61/200 [00:08<00:20,  6.81it/s, train_acc=0.871, val_acc=0.767]\u001b[A\n",
      " 30%|███       | 61/200 [00:08<00:20,  6.81it/s, train_acc=0.879, val_acc=0.76] \u001b[A\n",
      " 31%|███       | 62/200 [00:08<00:21,  6.52it/s, train_acc=0.879, val_acc=0.76]\u001b[A\n",
      " 31%|███       | 62/200 [00:08<00:21,  6.52it/s, train_acc=0.857, val_acc=0.76]\u001b[A\n",
      " 32%|███▏      | 63/200 [00:08<00:21,  6.39it/s, train_acc=0.857, val_acc=0.76]\u001b[A\n",
      " 32%|███▏      | 63/200 [00:08<00:21,  6.39it/s, train_acc=0.857, val_acc=0.747]\u001b[A\n",
      " 32%|███▏      | 64/200 [00:08<00:19,  6.85it/s, train_acc=0.857, val_acc=0.747]\u001b[A\n",
      " 32%|███▏      | 64/200 [00:08<00:19,  6.85it/s, train_acc=0.886, val_acc=0.78] \u001b[A\n",
      " 32%|███▎      | 65/200 [00:08<00:18,  7.40it/s, train_acc=0.886, val_acc=0.78]\u001b[A\n",
      " 32%|███▎      | 65/200 [00:08<00:18,  7.40it/s, train_acc=0.871, val_acc=0.753]\u001b[A\n",
      " 32%|███▎      | 65/200 [00:08<00:18,  7.40it/s, train_acc=0.85, val_acc=0.75]  \u001b[A\n",
      " 34%|███▎      | 67/200 [00:08<00:16,  8.15it/s, train_acc=0.85, val_acc=0.75]\u001b[A\n",
      " 34%|███▎      | 67/200 [00:09<00:16,  8.15it/s, train_acc=0.879, val_acc=0.757]\u001b[A\n",
      " 34%|███▎      | 67/200 [00:09<00:16,  8.15it/s, train_acc=0.879, val_acc=0.767]\u001b[A\n",
      " 34%|███▍      | 69/200 [00:09<00:15,  8.59it/s, train_acc=0.879, val_acc=0.767]\u001b[A\n",
      " 34%|███▍      | 69/200 [00:09<00:15,  8.59it/s, train_acc=0.893, val_acc=0.773]\u001b[A\n",
      " 35%|███▌      | 70/200 [00:09<00:15,  8.59it/s, train_acc=0.893, val_acc=0.773]\u001b[A\n",
      " 35%|███▌      | 70/200 [00:09<00:15,  8.59it/s, train_acc=0.886, val_acc=0.78] \u001b[A\n",
      " 36%|███▌      | 71/200 [00:09<00:14,  8.71it/s, train_acc=0.886, val_acc=0.78]\u001b[A\n",
      " 36%|███▌      | 71/200 [00:09<00:14,  8.71it/s, train_acc=0.879, val_acc=0.78]\u001b[A\n",
      " 36%|███▌      | 72/200 [00:09<00:14,  8.96it/s, train_acc=0.879, val_acc=0.78]\u001b[A\n",
      " 36%|███▌      | 72/200 [00:09<00:14,  8.96it/s, train_acc=0.871, val_acc=0.757]\u001b[A\n",
      " 36%|███▋      | 73/200 [00:09<00:14,  8.85it/s, train_acc=0.871, val_acc=0.757]\u001b[A\n",
      " 36%|███▋      | 73/200 [00:09<00:14,  8.85it/s, train_acc=0.879, val_acc=0.773]\u001b[A\n",
      " 37%|███▋      | 74/200 [00:09<00:14,  8.86it/s, train_acc=0.879, val_acc=0.773]\u001b[A\n",
      " 37%|███▋      | 74/200 [00:09<00:14,  8.86it/s, train_acc=0.879, val_acc=0.787]\u001b[A\n",
      " 37%|███▋      | 74/200 [00:09<00:14,  8.86it/s, train_acc=0.871, val_acc=0.777]\u001b[A\n",
      " 38%|███▊      | 76/200 [00:09<00:13,  9.09it/s, train_acc=0.871, val_acc=0.777]\u001b[A\n",
      " 38%|███▊      | 76/200 [00:10<00:13,  9.09it/s, train_acc=0.886, val_acc=0.793]\u001b[A\n",
      " 38%|███▊      | 77/200 [00:10<00:13,  8.94it/s, train_acc=0.886, val_acc=0.793]\u001b[A\n",
      " 38%|███▊      | 77/200 [00:10<00:13,  8.94it/s, train_acc=0.893, val_acc=0.773]\u001b[A\n",
      " 39%|███▉      | 78/200 [00:10<00:13,  8.93it/s, train_acc=0.893, val_acc=0.773]\u001b[A\n",
      " 39%|███▉      | 78/200 [00:10<00:13,  8.93it/s, train_acc=0.886, val_acc=0.78] \u001b[A\n",
      " 40%|███▉      | 79/200 [00:10<00:13,  8.78it/s, train_acc=0.886, val_acc=0.78]\u001b[A\n",
      " 40%|███▉      | 79/200 [00:10<00:13,  8.78it/s, train_acc=0.907, val_acc=0.78]\u001b[A\n",
      " 40%|████      | 80/200 [00:10<00:13,  8.83it/s, train_acc=0.907, val_acc=0.78]\u001b[A\n",
      " 40%|████      | 80/200 [00:10<00:13,  8.83it/s, train_acc=0.9, val_acc=0.803] \u001b[A\n",
      " 40%|████      | 81/200 [00:10<00:13,  8.71it/s, train_acc=0.9, val_acc=0.803]\u001b[A\n",
      " 40%|████      | 81/200 [00:10<00:13,  8.71it/s, train_acc=0.886, val_acc=0.783]\u001b[A\n",
      " 40%|████      | 81/200 [00:10<00:13,  8.71it/s, train_acc=0.893, val_acc=0.783]\u001b[A\n",
      " 42%|████▏     | 83/200 [00:10<00:12,  9.19it/s, train_acc=0.893, val_acc=0.783]\u001b[A\n",
      " 42%|████▏     | 83/200 [00:10<00:12,  9.19it/s, train_acc=0.886, val_acc=0.783]\u001b[A\n",
      " 42%|████▏     | 84/200 [00:10<00:12,  9.22it/s, train_acc=0.886, val_acc=0.783]\u001b[A\n",
      " 42%|████▏     | 84/200 [00:10<00:12,  9.22it/s, train_acc=0.886, val_acc=0.777]\u001b[A\n",
      " 42%|████▎     | 85/200 [00:10<00:12,  9.01it/s, train_acc=0.886, val_acc=0.777]\u001b[A\n",
      " 42%|████▎     | 85/200 [00:11<00:12,  9.01it/s, train_acc=0.914, val_acc=0.793]\u001b[A\n",
      " 43%|████▎     | 86/200 [00:11<00:12,  9.23it/s, train_acc=0.914, val_acc=0.793]\u001b[A\n",
      " 43%|████▎     | 86/200 [00:11<00:12,  9.23it/s, train_acc=0.893, val_acc=0.79] \u001b[A\n",
      " 44%|████▎     | 87/200 [00:11<00:12,  9.12it/s, train_acc=0.893, val_acc=0.79]\u001b[A\n",
      " 44%|████▎     | 87/200 [00:11<00:12,  9.12it/s, train_acc=0.871, val_acc=0.803]\u001b[A\n",
      " 44%|████▍     | 88/200 [00:11<00:12,  8.72it/s, train_acc=0.871, val_acc=0.803]\u001b[A\n",
      " 44%|████▍     | 88/200 [00:11<00:12,  8.72it/s, train_acc=0.893, val_acc=0.797]\u001b[A\n",
      " 44%|████▍     | 89/200 [00:11<00:12,  8.77it/s, train_acc=0.893, val_acc=0.797]\u001b[A\n",
      " 44%|████▍     | 89/200 [00:11<00:12,  8.77it/s, train_acc=0.893, val_acc=0.773]\u001b[A\n",
      " 45%|████▌     | 90/200 [00:11<00:12,  9.07it/s, train_acc=0.893, val_acc=0.773]\u001b[A\n",
      " 45%|████▌     | 90/200 [00:11<00:12,  9.07it/s, train_acc=0.907, val_acc=0.787]\u001b[A\n",
      " 46%|████▌     | 91/200 [00:11<00:12,  8.97it/s, train_acc=0.907, val_acc=0.787]\u001b[A\n",
      " 46%|████▌     | 91/200 [00:11<00:12,  8.97it/s, train_acc=0.886, val_acc=0.807]\u001b[A\n",
      " 46%|████▌     | 92/200 [00:11<00:11,  9.03it/s, train_acc=0.886, val_acc=0.807]\u001b[A\n",
      " 46%|████▌     | 92/200 [00:11<00:11,  9.03it/s, train_acc=0.907, val_acc=0.81] \u001b[A\n",
      " 46%|████▋     | 93/200 [00:11<00:11,  8.99it/s, train_acc=0.907, val_acc=0.81]\u001b[A\n",
      " 46%|████▋     | 93/200 [00:11<00:11,  8.99it/s, train_acc=0.893, val_acc=0.82]\u001b[A\n",
      " 47%|████▋     | 94/200 [00:11<00:11,  8.91it/s, train_acc=0.893, val_acc=0.82]\u001b[A\n",
      " 47%|████▋     | 94/200 [00:12<00:11,  8.91it/s, train_acc=0.921, val_acc=0.797]\u001b[A\n",
      " 48%|████▊     | 95/200 [00:12<00:11,  8.80it/s, train_acc=0.921, val_acc=0.797]\u001b[A\n",
      " 48%|████▊     | 95/200 [00:12<00:11,  8.80it/s, train_acc=0.9, val_acc=0.79]   \u001b[A\n",
      " 48%|████▊     | 96/200 [00:12<00:11,  8.99it/s, train_acc=0.9, val_acc=0.79]\u001b[A\n",
      " 48%|████▊     | 96/200 [00:12<00:11,  8.99it/s, train_acc=0.886, val_acc=0.78]\u001b[A\n",
      " 48%|████▊     | 97/200 [00:12<00:11,  9.25it/s, train_acc=0.886, val_acc=0.78]\u001b[A\n",
      " 48%|████▊     | 97/200 [00:12<00:11,  9.25it/s, train_acc=0.907, val_acc=0.803]\u001b[A\n",
      " 49%|████▉     | 98/200 [00:12<00:11,  9.12it/s, train_acc=0.907, val_acc=0.803]\u001b[A\n",
      " 49%|████▉     | 98/200 [00:12<00:11,  9.12it/s, train_acc=0.886, val_acc=0.783]\u001b[A\n",
      " 50%|████▉     | 99/200 [00:12<00:10,  9.33it/s, train_acc=0.886, val_acc=0.783]\u001b[A\n",
      " 50%|████▉     | 99/200 [00:12<00:10,  9.33it/s, train_acc=0.907, val_acc=0.8]  \u001b[A\n",
      " 50%|█████     | 100/200 [00:12<00:10,  9.41it/s, train_acc=0.907, val_acc=0.8]\u001b[A\n",
      " 50%|█████     | 100/200 [00:12<00:10,  9.41it/s, train_acc=0.914, val_acc=0.803]\u001b[A\n",
      " 50%|█████     | 101/200 [00:12<00:10,  9.36it/s, train_acc=0.914, val_acc=0.803]\u001b[A\n",
      " 50%|█████     | 101/200 [00:12<00:10,  9.36it/s, train_acc=0.914, val_acc=0.81] \u001b[A\n"
     ]
    },
    {
     "name": "stderr",
     "output_type": "stream",
     "text": [
      " 51%|█████     | 102/200 [00:12<00:10,  9.27it/s, train_acc=0.914, val_acc=0.81]\u001b[A\n",
      " 51%|█████     | 102/200 [00:12<00:10,  9.27it/s, train_acc=0.907, val_acc=0.773]\u001b[A\n",
      " 52%|█████▏    | 103/200 [00:12<00:10,  9.42it/s, train_acc=0.907, val_acc=0.773]\u001b[A\n",
      " 52%|█████▏    | 103/200 [00:13<00:10,  9.42it/s, train_acc=0.893, val_acc=0.807]\u001b[A\n",
      " 52%|█████▏    | 103/200 [00:13<00:10,  9.42it/s, train_acc=0.9, val_acc=0.79]   \u001b[A\n",
      " 52%|█████▎    | 105/200 [00:13<00:09,  9.96it/s, train_acc=0.9, val_acc=0.79]\u001b[A\n",
      " 52%|█████▎    | 105/200 [00:13<00:09,  9.96it/s, train_acc=0.9, val_acc=0.777]\u001b[A\n",
      " 52%|█████▎    | 105/200 [00:13<00:09,  9.96it/s, train_acc=0.893, val_acc=0.79]\u001b[A\n",
      " 54%|█████▎    | 107/200 [00:13<00:09,  9.96it/s, train_acc=0.893, val_acc=0.79]\u001b[A\n",
      " 54%|█████▎    | 107/200 [00:13<00:09,  9.96it/s, train_acc=0.907, val_acc=0.813]\u001b[A\n",
      " 54%|█████▎    | 107/200 [00:13<00:09,  9.96it/s, train_acc=0.907, val_acc=0.807]\u001b[A\n",
      " 55%|█████▍    | 109/200 [00:13<00:09, 10.04it/s, train_acc=0.907, val_acc=0.807]\u001b[A\n",
      " 55%|█████▍    | 109/200 [00:13<00:09, 10.04it/s, train_acc=0.9, val_acc=0.793]  \u001b[A\n",
      " 55%|█████▍    | 109/200 [00:13<00:09, 10.04it/s, train_acc=0.907, val_acc=0.79]\u001b[A\n",
      " 56%|█████▌    | 111/200 [00:13<00:08, 10.00it/s, train_acc=0.907, val_acc=0.79]\u001b[A\n",
      " 56%|█████▌    | 111/200 [00:13<00:08, 10.00it/s, train_acc=0.921, val_acc=0.787]\u001b[A\n",
      " 56%|█████▌    | 111/200 [00:13<00:08, 10.00it/s, train_acc=0.914, val_acc=0.8]  \u001b[A\n",
      " 56%|█████▋    | 113/200 [00:13<00:08, 10.24it/s, train_acc=0.914, val_acc=0.8]\u001b[A\n",
      " 56%|█████▋    | 113/200 [00:13<00:08, 10.24it/s, train_acc=0.929, val_acc=0.8]\u001b[A\n",
      " 56%|█████▋    | 113/200 [00:14<00:08, 10.24it/s, train_acc=0.907, val_acc=0.787]\u001b[A\n",
      " 57%|█████▊    | 115/200 [00:14<00:08, 10.20it/s, train_acc=0.907, val_acc=0.787]\u001b[A\n",
      " 57%|█████▊    | 115/200 [00:14<00:08, 10.20it/s, train_acc=0.921, val_acc=0.813]\u001b[A\n",
      " 57%|█████▊    | 115/200 [00:14<00:08, 10.20it/s, train_acc=0.893, val_acc=0.803]\u001b[A\n",
      " 58%|█████▊    | 117/200 [00:14<00:08,  9.86it/s, train_acc=0.893, val_acc=0.803]\u001b[A\n",
      " 58%|█████▊    | 117/200 [00:14<00:08,  9.86it/s, train_acc=0.936, val_acc=0.8]  \u001b[A\n",
      " 59%|█████▉    | 118/200 [00:14<00:08,  9.81it/s, train_acc=0.936, val_acc=0.8]\u001b[A\n",
      " 59%|█████▉    | 118/200 [00:14<00:08,  9.81it/s, train_acc=0.907, val_acc=0.793]\u001b[A\n",
      " 60%|█████▉    | 119/200 [00:14<00:08,  9.66it/s, train_acc=0.907, val_acc=0.793]\u001b[A\n",
      " 60%|█████▉    | 119/200 [00:14<00:08,  9.66it/s, train_acc=0.914, val_acc=0.81] \u001b[A\n",
      " 60%|██████    | 120/200 [00:14<00:08,  9.47it/s, train_acc=0.914, val_acc=0.81]\u001b[A\n",
      " 60%|██████    | 120/200 [00:14<00:08,  9.47it/s, train_acc=0.929, val_acc=0.807]\u001b[A\n",
      " 60%|██████    | 121/200 [00:14<00:08,  9.52it/s, train_acc=0.929, val_acc=0.807]\u001b[A\n",
      " 60%|██████    | 121/200 [00:14<00:08,  9.52it/s, train_acc=0.914, val_acc=0.827]\u001b[A\n",
      " 61%|██████    | 122/200 [00:14<00:08,  9.57it/s, train_acc=0.914, val_acc=0.827]\u001b[A\n",
      " 61%|██████    | 122/200 [00:14<00:08,  9.57it/s, train_acc=0.914, val_acc=0.817]\u001b[A\n",
      " 62%|██████▏   | 123/200 [00:14<00:08,  9.24it/s, train_acc=0.914, val_acc=0.817]\u001b[A\n",
      " 62%|██████▏   | 123/200 [00:15<00:08,  9.24it/s, train_acc=0.914, val_acc=0.793]\u001b[A\n",
      " 62%|██████▏   | 123/200 [00:15<00:08,  9.24it/s, train_acc=0.929, val_acc=0.8]  \u001b[A\n",
      " 62%|██████▎   | 125/200 [00:15<00:07,  9.73it/s, train_acc=0.929, val_acc=0.8]\u001b[A\n",
      " 62%|██████▎   | 125/200 [00:15<00:07,  9.73it/s, train_acc=0.943, val_acc=0.803]\u001b[A\n",
      " 62%|██████▎   | 125/200 [00:15<00:07,  9.73it/s, train_acc=0.929, val_acc=0.813]\u001b[A\n",
      " 64%|██████▎   | 127/200 [00:15<00:07, 10.02it/s, train_acc=0.929, val_acc=0.813]\u001b[A\n",
      " 64%|██████▎   | 127/200 [00:15<00:07, 10.02it/s, train_acc=0.929, val_acc=0.807]\u001b[A\n",
      " 64%|██████▎   | 127/200 [00:15<00:07, 10.02it/s, train_acc=0.929, val_acc=0.813]\u001b[A\n",
      " 64%|██████▍   | 129/200 [00:15<00:06, 10.31it/s, train_acc=0.929, val_acc=0.813]\u001b[A\n",
      " 64%|██████▍   | 129/200 [00:15<00:06, 10.31it/s, train_acc=0.943, val_acc=0.8]  \u001b[A\n",
      " 64%|██████▍   | 129/200 [00:15<00:06, 10.31it/s, train_acc=0.929, val_acc=0.823]\u001b[A\n",
      " 66%|██████▌   | 131/200 [00:15<00:06, 10.10it/s, train_acc=0.929, val_acc=0.823]\u001b[A\n",
      " 66%|██████▌   | 131/200 [00:15<00:06, 10.10it/s, train_acc=0.929, val_acc=0.813]\u001b[A\n",
      " 66%|██████▌   | 131/200 [00:15<00:06, 10.10it/s, train_acc=0.921, val_acc=0.787]\u001b[A\n",
      " 66%|██████▋   | 133/200 [00:15<00:06, 10.06it/s, train_acc=0.921, val_acc=0.787]\u001b[A\n",
      " 66%|██████▋   | 133/200 [00:15<00:06, 10.06it/s, train_acc=0.936, val_acc=0.81] \u001b[A\n",
      " 66%|██████▋   | 133/200 [00:16<00:06, 10.06it/s, train_acc=0.921, val_acc=0.813]\u001b[A\n",
      " 68%|██████▊   | 135/200 [00:16<00:06,  9.82it/s, train_acc=0.921, val_acc=0.813]\u001b[A\n",
      " 68%|██████▊   | 135/200 [00:16<00:06,  9.82it/s, train_acc=0.943, val_acc=0.81] \u001b[A\n",
      " 68%|██████▊   | 135/200 [00:16<00:06,  9.82it/s, train_acc=0.943, val_acc=0.813]\u001b[A\n",
      " 68%|██████▊   | 137/200 [00:16<00:06, 10.01it/s, train_acc=0.943, val_acc=0.813]\u001b[A\n",
      " 68%|██████▊   | 137/200 [00:16<00:06, 10.01it/s, train_acc=0.929, val_acc=0.83] \u001b[A\n",
      " 68%|██████▊   | 137/200 [00:16<00:06, 10.01it/s, train_acc=0.914, val_acc=0.803]\u001b[A\n",
      " 70%|██████▉   | 139/200 [00:16<00:06,  9.92it/s, train_acc=0.914, val_acc=0.803]\u001b[A\n",
      " 70%|██████▉   | 139/200 [00:16<00:06,  9.92it/s, train_acc=0.95, val_acc=0.803] \u001b[A\n",
      " 70%|███████   | 140/200 [00:16<00:06,  9.46it/s, train_acc=0.95, val_acc=0.803]\u001b[A\n",
      " 70%|███████   | 140/200 [00:16<00:06,  9.46it/s, train_acc=0.943, val_acc=0.8] \u001b[A\n",
      " 70%|███████   | 141/200 [00:16<00:06,  9.00it/s, train_acc=0.943, val_acc=0.8]\u001b[A\n",
      " 70%|███████   | 141/200 [00:16<00:06,  9.00it/s, train_acc=0.957, val_acc=0.803]\u001b[A\n",
      " 71%|███████   | 142/200 [00:16<00:06,  9.11it/s, train_acc=0.957, val_acc=0.803]\u001b[A\n",
      " 71%|███████   | 142/200 [00:16<00:06,  9.11it/s, train_acc=0.936, val_acc=0.803]\u001b[A\n",
      " 72%|███████▏  | 143/200 [00:16<00:06,  9.13it/s, train_acc=0.936, val_acc=0.803]\u001b[A\n",
      " 72%|███████▏  | 143/200 [00:17<00:06,  9.13it/s, train_acc=0.943, val_acc=0.817]\u001b[A\n",
      " 72%|███████▏  | 143/200 [00:17<00:06,  9.13it/s, train_acc=0.936, val_acc=0.807]\u001b[A\n",
      " 72%|███████▎  | 145/200 [00:17<00:06,  9.10it/s, train_acc=0.936, val_acc=0.807]\u001b[A\n",
      " 72%|███████▎  | 145/200 [00:17<00:06,  9.10it/s, train_acc=0.957, val_acc=0.797]\u001b[A\n",
      " 72%|███████▎  | 145/200 [00:17<00:06,  9.10it/s, train_acc=0.95, val_acc=0.81]  \u001b[A\n",
      " 74%|███████▎  | 147/200 [00:17<00:05,  9.47it/s, train_acc=0.95, val_acc=0.81]\u001b[A\n",
      " 74%|███████▎  | 147/200 [00:17<00:05,  9.47it/s, train_acc=0.921, val_acc=0.83]\u001b[A\n",
      " 74%|███████▎  | 147/200 [00:17<00:05,  9.47it/s, train_acc=0.936, val_acc=0.82]\u001b[A\n",
      " 74%|███████▍  | 149/200 [00:17<00:05,  9.93it/s, train_acc=0.936, val_acc=0.82]\u001b[A\n",
      " 74%|███████▍  | 149/200 [00:17<00:05,  9.93it/s, train_acc=0.929, val_acc=0.82]\u001b[A\n",
      " 74%|███████▍  | 149/200 [00:17<00:05,  9.93it/s, train_acc=0.921, val_acc=0.81]\u001b[A\n",
      " 76%|███████▌  | 151/200 [00:17<00:04, 10.13it/s, train_acc=0.921, val_acc=0.81]\u001b[A\n",
      " 76%|███████▌  | 151/200 [00:17<00:04, 10.13it/s, train_acc=0.907, val_acc=0.813]\u001b[A\n",
      " 76%|███████▌  | 151/200 [00:17<00:04, 10.13it/s, train_acc=0.943, val_acc=0.813]\u001b[A\n",
      " 76%|███████▋  | 153/200 [00:17<00:04,  9.92it/s, train_acc=0.943, val_acc=0.813]\u001b[A\n",
      " 76%|███████▋  | 153/200 [00:18<00:04,  9.92it/s, train_acc=0.95, val_acc=0.823] \u001b[A\n",
      " 77%|███████▋  | 154/200 [00:18<00:04,  9.63it/s, train_acc=0.95, val_acc=0.823]\u001b[A\n",
      " 77%|███████▋  | 154/200 [00:18<00:04,  9.63it/s, train_acc=0.921, val_acc=0.813]\u001b[A\n",
      " 78%|███████▊  | 155/200 [00:18<00:04,  9.54it/s, train_acc=0.921, val_acc=0.813]\u001b[A\n",
      " 78%|███████▊  | 155/200 [00:18<00:04,  9.54it/s, train_acc=0.964, val_acc=0.803]\u001b[A\n",
      " 78%|███████▊  | 156/200 [00:18<00:04,  9.32it/s, train_acc=0.964, val_acc=0.803]\u001b[A\n",
      " 78%|███████▊  | 156/200 [00:18<00:04,  9.32it/s, train_acc=0.943, val_acc=0.813]\u001b[A\n",
      " 78%|███████▊  | 157/200 [00:18<00:04,  9.19it/s, train_acc=0.943, val_acc=0.813]\u001b[A\n",
      " 78%|███████▊  | 157/200 [00:18<00:04,  9.19it/s, train_acc=0.936, val_acc=0.803]\u001b[A\n",
      " 79%|███████▉  | 158/200 [00:18<00:04,  9.23it/s, train_acc=0.936, val_acc=0.803]\u001b[A\n",
      " 79%|███████▉  | 158/200 [00:18<00:04,  9.23it/s, train_acc=0.943, val_acc=0.82] \u001b[A\n",
      " 80%|███████▉  | 159/200 [00:18<00:04,  9.08it/s, train_acc=0.943, val_acc=0.82]\u001b[A\n",
      " 80%|███████▉  | 159/200 [00:18<00:04,  9.08it/s, train_acc=0.929, val_acc=0.783]\u001b[A\n"
     ]
    },
    {
     "name": "stderr",
     "output_type": "stream",
     "text": [
      " 80%|████████  | 160/200 [00:18<00:04,  9.02it/s, train_acc=0.929, val_acc=0.783]\u001b[A\n",
      " 80%|████████  | 160/200 [00:18<00:04,  9.02it/s, train_acc=0.943, val_acc=0.823]\u001b[A\n",
      " 80%|████████  | 161/200 [00:18<00:04,  9.10it/s, train_acc=0.943, val_acc=0.823]\u001b[A\n",
      " 80%|████████  | 161/200 [00:18<00:04,  9.10it/s, train_acc=0.943, val_acc=0.813]\u001b[A\n",
      " 81%|████████  | 162/200 [00:18<00:04,  9.18it/s, train_acc=0.943, val_acc=0.813]\u001b[A\n",
      " 81%|████████  | 162/200 [00:19<00:04,  9.18it/s, train_acc=0.957, val_acc=0.81] \u001b[A\n",
      " 82%|████████▏ | 163/200 [00:19<00:03,  9.35it/s, train_acc=0.957, val_acc=0.81]\u001b[A\n",
      " 82%|████████▏ | 163/200 [00:19<00:03,  9.35it/s, train_acc=0.964, val_acc=0.82]\u001b[A\n",
      " 82%|████████▏ | 163/200 [00:19<00:03,  9.35it/s, train_acc=0.95, val_acc=0.82] \u001b[A\n",
      " 82%|████████▎ | 165/200 [00:19<00:03,  9.78it/s, train_acc=0.95, val_acc=0.82]\u001b[A\n",
      " 82%|████████▎ | 165/200 [00:19<00:03,  9.78it/s, train_acc=0.957, val_acc=0.807]\u001b[A\n",
      " 83%|████████▎ | 166/200 [00:19<00:03,  9.81it/s, train_acc=0.957, val_acc=0.807]\u001b[A\n",
      " 83%|████████▎ | 166/200 [00:19<00:03,  9.81it/s, train_acc=0.957, val_acc=0.813]\u001b[A\n",
      " 84%|████████▎ | 167/200 [00:19<00:03,  9.46it/s, train_acc=0.957, val_acc=0.813]\u001b[A\n",
      " 84%|████████▎ | 167/200 [00:19<00:03,  9.46it/s, train_acc=0.964, val_acc=0.803]\u001b[A\n",
      " 84%|████████▍ | 168/200 [00:19<00:03,  9.58it/s, train_acc=0.964, val_acc=0.803]\u001b[A\n",
      " 84%|████████▍ | 168/200 [00:19<00:03,  9.58it/s, train_acc=0.943, val_acc=0.81] \u001b[A\n",
      " 84%|████████▍ | 169/200 [00:19<00:03,  9.61it/s, train_acc=0.943, val_acc=0.81]\u001b[A\n",
      " 84%|████████▍ | 169/200 [00:19<00:03,  9.61it/s, train_acc=0.936, val_acc=0.813]\u001b[A\n",
      " 85%|████████▌ | 170/200 [00:19<00:03,  9.64it/s, train_acc=0.936, val_acc=0.813]\u001b[A\n",
      " 85%|████████▌ | 170/200 [00:19<00:03,  9.64it/s, train_acc=0.957, val_acc=0.823]\u001b[A\n",
      " 86%|████████▌ | 171/200 [00:19<00:03,  9.38it/s, train_acc=0.957, val_acc=0.823]\u001b[A\n",
      " 86%|████████▌ | 171/200 [00:19<00:03,  9.38it/s, train_acc=0.957, val_acc=0.82] \u001b[A\n",
      " 86%|████████▌ | 172/200 [00:19<00:02,  9.49it/s, train_acc=0.957, val_acc=0.82]\u001b[A\n",
      " 86%|████████▌ | 172/200 [00:20<00:02,  9.49it/s, train_acc=0.957, val_acc=0.81]\u001b[A\n",
      " 86%|████████▋ | 173/200 [00:20<00:02,  9.24it/s, train_acc=0.957, val_acc=0.81]\u001b[A\n",
      " 86%|████████▋ | 173/200 [00:20<00:02,  9.24it/s, train_acc=0.964, val_acc=0.81]\u001b[A\n",
      " 87%|████████▋ | 174/200 [00:20<00:02,  9.12it/s, train_acc=0.964, val_acc=0.81]\u001b[A\n",
      " 87%|████████▋ | 174/200 [00:20<00:02,  9.12it/s, train_acc=0.95, val_acc=0.82] \u001b[A\n",
      " 88%|████████▊ | 175/200 [00:20<00:02,  9.36it/s, train_acc=0.95, val_acc=0.82]\u001b[A\n",
      " 88%|████████▊ | 175/200 [00:20<00:02,  9.36it/s, train_acc=0.957, val_acc=0.817]\u001b[A\n",
      " 88%|████████▊ | 176/200 [00:20<00:02,  9.50it/s, train_acc=0.957, val_acc=0.817]\u001b[A\n",
      " 88%|████████▊ | 176/200 [00:20<00:02,  9.50it/s, train_acc=0.971, val_acc=0.81] \u001b[A\n",
      " 88%|████████▊ | 177/200 [00:20<00:02,  9.33it/s, train_acc=0.971, val_acc=0.81]\u001b[A\n",
      " 88%|████████▊ | 177/200 [00:20<00:02,  9.33it/s, train_acc=0.95, val_acc=0.81] \u001b[A\n",
      " 89%|████████▉ | 178/200 [00:20<00:02,  9.40it/s, train_acc=0.95, val_acc=0.81]\u001b[A\n",
      " 89%|████████▉ | 178/200 [00:20<00:02,  9.40it/s, train_acc=0.957, val_acc=0.827]\u001b[A\n",
      " 90%|████████▉ | 179/200 [00:20<00:02,  9.43it/s, train_acc=0.957, val_acc=0.827]\u001b[A\n",
      " 90%|████████▉ | 179/200 [00:20<00:02,  9.43it/s, train_acc=0.95, val_acc=0.83]  \u001b[A\n",
      " 90%|█████████ | 180/200 [00:20<00:02,  9.18it/s, train_acc=0.95, val_acc=0.83]\u001b[A\n",
      " 90%|█████████ | 180/200 [00:20<00:02,  9.18it/s, train_acc=0.957, val_acc=0.823]\u001b[A\n",
      " 90%|█████████ | 180/200 [00:21<00:02,  9.18it/s, train_acc=0.964, val_acc=0.827]\u001b[A\n",
      " 91%|█████████ | 182/200 [00:21<00:01,  9.42it/s, train_acc=0.964, val_acc=0.827]\u001b[A\n",
      " 91%|█████████ | 182/200 [00:21<00:01,  9.42it/s, train_acc=0.929, val_acc=0.807]\u001b[A\n",
      " 92%|█████████▏| 183/200 [00:21<00:01,  9.47it/s, train_acc=0.929, val_acc=0.807]\u001b[A\n",
      " 92%|█████████▏| 183/200 [00:21<00:01,  9.47it/s, train_acc=0.957, val_acc=0.81] \u001b[A"
     ]
    },
    {
     "data": {
      "text/plain": [
       "[0.808]"
      ]
     },
     "execution_count": 19,
     "metadata": {},
     "output_type": "execute_result"
    }
   ],
   "source": [
    "train(model)[1]"
   ]
  },
  {
   "cell_type": "markdown",
   "metadata": {},
   "source": [
    " "
   ]
  }
 ],
 "metadata": {
  "kernelspec": {
   "display_name": "Python 3",
   "language": "python",
   "name": "python3"
  },
  "language_info": {
   "codemirror_mode": {
    "name": "ipython",
    "version": 3
   },
   "file_extension": ".py",
   "mimetype": "text/x-python",
   "name": "python",
   "nbconvert_exporter": "python",
   "pygments_lexer": "ipython3",
   "version": "3.7.4"
  }
 },
 "nbformat": 4,
 "nbformat_minor": 2
}
