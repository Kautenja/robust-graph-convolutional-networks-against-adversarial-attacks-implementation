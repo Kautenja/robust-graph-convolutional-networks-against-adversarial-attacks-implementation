{
 "cells": [
  {
   "cell_type": "markdown",
   "metadata": {},
   "source": [
    "#### Global & Local Modules"
   ]
  },
  {
   "cell_type": "code",
   "execution_count": 1,
   "metadata": {},
   "outputs": [
    {
     "name": "stderr",
     "output_type": "stream",
     "text": [
      "Using TensorFlow backend.\n"
     ]
    }
   ],
   "source": [
    "import os\n",
    "from itertools import permutations \n",
    "import sys\n",
    "from matplotlib import pyplot as plt\n",
    "import numpy as np\n",
    "import pandas as pd\n",
    "import scipy.sparse as sp\n",
    "from tqdm import tqdm\n",
    "from keras.callbacks import EarlyStopping\n",
    "from keras.layers import Input, Dropout\n",
    "from keras.models import Model\n",
    "from keras.optimizers import Adam\n",
    "from keras.regularizers import l2\n",
    "from rgcn import GaussianGraphConvolution, kl_reg"
   ]
  },
  {
   "cell_type": "code",
   "execution_count": 2,
   "metadata": {},
   "outputs": [],
   "source": [
    "%matplotlib inline"
   ]
  },
  {
   "cell_type": "markdown",
   "metadata": {},
   "source": [
    "#### Vendor Modules"
   ]
  },
  {
   "cell_type": "code",
   "execution_count": 3,
   "metadata": {},
   "outputs": [],
   "source": [
    "# the path of execution\n",
    "EXE_PATH = os.path.abspath(os.path.curdir)\n",
    "# the path of the vendor files\n",
    "VENDOR_PATH = os.path.join(EXE_PATH, 'vendor')\n",
    "# the vendors to include in the system path\n",
    "VENDORS = ['keras-gcn']\n",
    "# create the absolute paths for all vendors\n",
    "VENDORS = list(map(lambda x: os.path.join(VENDOR_PATH, x), VENDORS))\n",
    "# update the Python path to include necessary vendor module\n",
    "sys.path += VENDORS\n",
    "# import vendor modules\n",
    "from kegra.layers.graph import GraphConvolution\n",
    "from kegra.utils import load_data, preprocess_adj, get_splits"
   ]
  },
  {
   "cell_type": "markdown",
   "metadata": {},
   "source": [
    "# Data"
   ]
  },
  {
   "cell_type": "code",
   "execution_count": 4,
   "metadata": {},
   "outputs": [],
   "source": [
    "def attack_edges(attack_ratio: float) -> 'callable':\n",
    "    \"\"\"\n",
    "    Create an edge attack function with given attack ratio.\n",
    "\n",
    "    Args:\n",
    "        attack_ratio: the ratio of noise to clean edges\n",
    "\n",
    "    Returns:\n",
    "        a callable function for attacking a graph\n",
    "\n",
    "    \"\"\"\n",
    "    def _attack_edges(edges: np.ndarray) -> np.ndarray:\n",
    "        f\"\"\"\n",
    "        Attack the edges of the given list of edges.\n",
    "\n",
    "        Args:\n",
    "            edges: the ndarray of tuples representing edges to attack\n",
    "\n",
    "        Returns:\n",
    "            a new ndarray of edges with random edges added\n",
    "\n",
    "        Note:\n",
    "            the ratio of noise to clean edges is {attack_ratio}\n",
    "\n",
    "        \"\"\"\n",
    "        # create the set of all possible edges\n",
    "        all_edges = set(permutations(list(range(edges.max())), 2))\n",
    "        # convert the ndarray of edges to a set of tuples\n",
    "        edges = set(map(tuple, edges))\n",
    "        # create the set of edges to sample by subtracting the existing\n",
    "        # edges from the set of possible edges\n",
    "        sample_edges = all_edges - edges\n",
    "        # select random edges without replacement based on the noise ratio\n",
    "        attack_edges = np.random.choice(list(range(len(sample_edges))), \n",
    "            size=int(len(edges) * attack_ratio), \n",
    "            replace=False)\n",
    "        attack_edges = [edge for (i, edge) in enumerate(list(sample_edges)) if i in attack_edges]\n",
    "        # create the new ndarray of edges with the attack edges added\n",
    "        edges = list(edges) + attack_edges\n",
    "        return np.array(edges)\n",
    "    return _attack_edges"
   ]
  },
  {
   "cell_type": "code",
   "execution_count": 5,
   "metadata": {},
   "outputs": [],
   "source": [
    "def run(attack_ratio) -> tuple:\n",
    "    \"\"\"\n",
    "    Perform an experimental run with given attack ratio.\n",
    "\n",
    "    Args:\n",
    "        attack_ratio: the ratio of noise to clean edges\n",
    "\n",
    "    Returns:\n",
    "        a tuple of GCN and RGCN accuracies\n",
    "\n",
    "    \"\"\"\n",
    "    # load the input data\n",
    "    X, A, y = load_data('data/cora/', dataset='cora', attack_edges=attack_edges(attack_ratio))\n",
    "    X /= X.sum(1).reshape(-1, 1)\n",
    "    A = preprocess_adj(A)\n",
    "    y_train, y_val, y_test, idx_train, idx_val, idx_test, train_mask, val_mask, test_mask = get_splits(y)\n",
    "    # create the input layers\n",
    "    X_in = Input(shape=(X.shape[1], ), name='features')\n",
    "    A_in = Input(shape=(None, None), batch_shape=(None, None), sparse=True, name='graph')\n",
    "    # create the training loop\n",
    "    def train(model, epochs=200, patience=10):\n",
    "        \"\"\"\n",
    "        Train the given model.\n",
    "\n",
    "        Args:\n",
    "            model: the model to train\n",
    "            epochs: the maximum number of training epochs\n",
    "            patience: the number of patience epochs for early stoping\n",
    "\n",
    "        Returns:\n",
    "            a tuple of the testing loss and accuracy\n",
    "\n",
    "        \"\"\"\n",
    "        history = model.fit([X, A], y_train,\n",
    "            sample_weight=train_mask,\n",
    "            batch_size=A.shape[0],\n",
    "            epochs=epochs,\n",
    "            shuffle=False,\n",
    "            verbose=False,\n",
    "            callbacks=[\n",
    "                EarlyStopping(monitor='val_loss', patience=patience),\n",
    "            ],\n",
    "            validation_data = ([X, A], y_val, val_mask)\n",
    "        )\n",
    "        test = model.evaluate([X, A], y_test, \n",
    "            sample_weight=test_mask, \n",
    "            batch_size=A.shape[0],\n",
    "            verbose=0\n",
    "        )\n",
    "        return test\n",
    "\n",
    "    # GCN\n",
    "    H = Dropout(0.5)(X_in)\n",
    "    H = GraphConvolution(32, 1, \n",
    "        activation='relu', \n",
    "        kernel_regularizer=l2(5e-4)\n",
    "    )([H, A_in])\n",
    "    H = Dropout(0.5)(H)\n",
    "    Y = GraphConvolution(y.shape[1], 1, \n",
    "        activation='softmax'\n",
    "    )([H, A_in])\n",
    "    gcn = Model(inputs=[X_in, A_in], outputs=Y)\n",
    "    gcn.compile(loss='categorical_crossentropy', optimizer=Adam(lr=0.01), weighted_metrics=['acc'])\n",
    "    gcn_acc = train(gcn)[1]\n",
    "\n",
    "    # RGCN\n",
    "    H = Dropout(0.6)(X_in)\n",
    "    M1, S1 = GaussianGraphConvolution(16,\n",
    "        is_first=True,\n",
    "        dropout=0.6\n",
    "    )([H, A_in])\n",
    "    Y = GaussianGraphConvolution(y.shape[1],\n",
    "        is_last=True,\n",
    "        last_activation='softmax',\n",
    "        mean_regularizer=None,\n",
    "        variance_regularizer=None\n",
    "    )([M1, S1, A_in])\n",
    "    rgcn = Model(inputs=[X_in, A_in], outputs=Y)\n",
    "    rgcn.compile(loss='categorical_crossentropy', optimizer=Adam(lr=0.01), weighted_metrics=['acc'])\n",
    "    rgcn.add_loss(kl_reg(M1, S1, 5e-4), [M1, S1])\n",
    "    rgcn_acc = train(rgcn)[1]\n",
    "\n",
    "    return gcn_acc, rgcn_acc"
   ]
  },
  {
   "cell_type": "code",
   "execution_count": 6,
   "metadata": {},
   "outputs": [
    {
     "name": "stderr",
     "output_type": "stream",
     "text": [
      "WARNING: Logging before flag parsing goes to stderr.\n",
      "W1209 16:31:18.790225 140206006789952 deprecation_wrapper.py:119] From /home/bitcommander/.local/lib/python3.7/site-packages/keras/backend/tensorflow_backend.py:517: The name tf.placeholder is deprecated. Please use tf.compat.v1.placeholder instead.\n",
      "\n",
      "W1209 16:31:18.797580 140206006789952 deprecation_wrapper.py:119] From /home/bitcommander/.local/lib/python3.7/site-packages/keras/backend/tensorflow_backend.py:515: The name tf.sparse_placeholder is deprecated. Please use tf.compat.v1.sparse_placeholder instead.\n",
      "\n",
      "W1209 16:31:18.799724 140206006789952 deprecation_wrapper.py:119] From /home/bitcommander/.local/lib/python3.7/site-packages/keras/backend/tensorflow_backend.py:74: The name tf.get_default_graph is deprecated. Please use tf.compat.v1.get_default_graph instead.\n",
      "\n",
      "W1209 16:31:18.800413 140206006789952 deprecation_wrapper.py:119] From /home/bitcommander/.local/lib/python3.7/site-packages/keras/backend/tensorflow_backend.py:133: The name tf.placeholder_with_default is deprecated. Please use tf.compat.v1.placeholder_with_default instead.\n",
      "\n",
      "W1209 16:31:18.804970 140206006789952 deprecation.py:506] From /home/bitcommander/.local/lib/python3.7/site-packages/keras/backend/tensorflow_backend.py:3445: calling dropout (from tensorflow.python.ops.nn_ops) with keep_prob is deprecated and will be removed in a future version.\n",
      "Instructions for updating:\n",
      "Please use `rate` instead of `keep_prob`. Rate should be set to `rate = 1 - keep_prob`.\n",
      "W1209 16:31:18.813908 140206006789952 deprecation_wrapper.py:119] From /home/bitcommander/.local/lib/python3.7/site-packages/keras/backend/tensorflow_backend.py:4138: The name tf.random_uniform is deprecated. Please use tf.random.uniform instead.\n",
      "\n",
      "W1209 16:31:18.850115 140206006789952 deprecation_wrapper.py:119] From /home/bitcommander/.local/lib/python3.7/site-packages/keras/optimizers.py:790: The name tf.train.Optimizer is deprecated. Please use tf.compat.v1.train.Optimizer instead.\n",
      "\n",
      "W1209 16:31:18.916093 140206006789952 deprecation.py:323] From /home/bitcommander/.local/lib/python3.7/site-packages/tensorflow/python/ops/math_grad.py:1250: add_dispatch_support.<locals>.wrapper (from tensorflow.python.ops.array_ops) is deprecated and will be removed in a future version.\n",
      "Instructions for updating:\n",
      "Use tf.where in 2.0, which has the same broadcast rule as np.where\n",
      "W1209 16:31:23.944124 140206006789952 nn_ops.py:4224] Large dropout rate: 0.6 (>0.5). In TensorFlow 2.x, dropout() uses dropout rate instead of keep_prob. Please ensure that this is intended.\n",
      "W1209 16:31:23.967001 140206006789952 nn_ops.py:4224] Large dropout rate: 0.6 (>0.5). In TensorFlow 2.x, dropout() uses dropout rate instead of keep_prob. Please ensure that this is intended.\n",
      "W1209 16:31:23.973990 140206006789952 nn_ops.py:4224] Large dropout rate: 0.6 (>0.5). In TensorFlow 2.x, dropout() uses dropout rate instead of keep_prob. Please ensure that this is intended.\n",
      "W1209 16:31:23.995261 140206006789952 deprecation.py:323] From /home/bitcommander/Documents/robust-graph-convolutional-networks-against-adversarial-attacks-implementation/rgcn/ggc.py:206: Normal.__init__ (from tensorflow.python.ops.distributions.normal) is deprecated and will be removed after 2019-01-01.\n",
      "Instructions for updating:\n",
      "The TensorFlow Distributions library has moved to TensorFlow Probability (https://github.com/tensorflow/probability). You should update all references to use `tfp.distributions` instead of `tf.distributions`.\n",
      "W1209 16:31:23.996833 140206006789952 deprecation.py:323] From /home/bitcommander/.local/lib/python3.7/site-packages/tensorflow/python/ops/distributions/normal.py:160: Distribution.__init__ (from tensorflow.python.ops.distributions.distribution) is deprecated and will be removed after 2019-01-01.\n",
      "Instructions for updating:\n",
      "The TensorFlow Distributions library has moved to TensorFlow Probability (https://github.com/tensorflow/probability). You should update all references to use `tfp.distributions` instead of `tf.distributions`.\n",
      "W1209 16:31:24.035090 140206006789952 deprecation.py:323] From /home/bitcommander/Documents/robust-graph-convolutional-networks-against-adversarial-attacks-implementation/rgcn/losses.py:28: kl_divergence (from tensorflow.python.ops.distributions.kullback_leibler) is deprecated and will be removed after 2019-01-01.\n",
      "Instructions for updating:\n",
      "The TensorFlow Distributions library has moved to TensorFlow Probability (https://github.com/tensorflow/probability). You should update all references to use `tfp.distributions` instead of `tf.distributions`.\n"
     ]
    },
    {
     "data": {
      "text/plain": [
       "(0.8199999332427979, 0.8139998912811279)"
      ]
     },
     "execution_count": 6,
     "metadata": {},
     "output_type": "execute_result"
    }
   ],
   "source": [
    "run(0)"
   ]
  },
  {
   "cell_type": "code",
   "execution_count": 7,
   "metadata": {},
   "outputs": [
    {
     "data": {
      "text/plain": [
       "[0, 0.1, 0.2, 0.3, 0.4, 0.5, 0.6, 0.7, 0.8, 0.9, 1.0]"
      ]
     },
     "execution_count": 7,
     "metadata": {},
     "output_type": "execute_result"
    }
   ],
   "source": [
    "ratios = list(map(lambda x: x / 10 if x > 0 else 0, range(0, 11)))\n",
    "ratios"
   ]
  },
  {
   "cell_type": "code",
   "execution_count": 8,
   "metadata": {},
   "outputs": [],
   "source": [
    "MC_RUNS = 10\n",
    "def monte_carlo_run(attack_ratio: float) -> tuple:\n",
    "    \"\"\"\n",
    "    Perform an experimental run with given attack ratio.\n",
    "\n",
    "    Args:\n",
    "        attack_ratio: the ratio of noise to clean edges\n",
    "\n",
    "    Returns:\n",
    "        a tuple of GCN and RGCN accuracies averaged over 10 trials\n",
    "\n",
    "    \"\"\"\n",
    "    return np.array([run(attack_ratio) for _ in range(MC_RUNS)]).mean(axis=0)"
   ]
  },
  {
   "cell_type": "code",
   "execution_count": 9,
   "metadata": {},
   "outputs": [
    {
     "name": "stderr",
     "output_type": "stream",
     "text": [
      "  0%|          | 0/11 [00:00<?, ?it/s]W1209 16:31:51.379761 140206006789952 nn_ops.py:4224] Large dropout rate: 0.6 (>0.5). In TensorFlow 2.x, dropout() uses dropout rate instead of keep_prob. Please ensure that this is intended.\n",
      "W1209 16:31:51.414533 140206006789952 nn_ops.py:4224] Large dropout rate: 0.6 (>0.5). In TensorFlow 2.x, dropout() uses dropout rate instead of keep_prob. Please ensure that this is intended.\n",
      "100%|██████████| 11/11 [1:23:16<00:00, 534.47s/it]\n"
     ]
    }
   ],
   "source": [
    "results = list(map(monte_carlo_run, tqdm(ratios)))"
   ]
  },
  {
   "cell_type": "code",
   "execution_count": 10,
   "metadata": {},
   "outputs": [
    {
     "data": {
      "text/html": [
       "<div>\n",
       "<style scoped>\n",
       "    .dataframe tbody tr th:only-of-type {\n",
       "        vertical-align: middle;\n",
       "    }\n",
       "\n",
       "    .dataframe tbody tr th {\n",
       "        vertical-align: top;\n",
       "    }\n",
       "\n",
       "    .dataframe thead th {\n",
       "        text-align: right;\n",
       "    }\n",
       "</style>\n",
       "<table border=\"1\" class=\"dataframe\">\n",
       "  <thead>\n",
       "    <tr style=\"text-align: right;\">\n",
       "      <th></th>\n",
       "      <th>GCN</th>\n",
       "      <th>RGCN</th>\n",
       "    </tr>\n",
       "    <tr>\n",
       "      <th>Noise Edge Ratio</th>\n",
       "      <th></th>\n",
       "      <th></th>\n",
       "    </tr>\n",
       "  </thead>\n",
       "  <tbody>\n",
       "    <tr>\n",
       "      <th>0.0</th>\n",
       "      <td>0.8151</td>\n",
       "      <td>0.8042</td>\n",
       "    </tr>\n",
       "    <tr>\n",
       "      <th>0.1</th>\n",
       "      <td>0.7862</td>\n",
       "      <td>0.7773</td>\n",
       "    </tr>\n",
       "    <tr>\n",
       "      <th>0.2</th>\n",
       "      <td>0.7583</td>\n",
       "      <td>0.7510</td>\n",
       "    </tr>\n",
       "    <tr>\n",
       "      <th>0.3</th>\n",
       "      <td>0.7291</td>\n",
       "      <td>0.7334</td>\n",
       "    </tr>\n",
       "    <tr>\n",
       "      <th>0.4</th>\n",
       "      <td>0.7054</td>\n",
       "      <td>0.6942</td>\n",
       "    </tr>\n",
       "    <tr>\n",
       "      <th>0.5</th>\n",
       "      <td>0.6730</td>\n",
       "      <td>0.6914</td>\n",
       "    </tr>\n",
       "    <tr>\n",
       "      <th>0.6</th>\n",
       "      <td>0.6284</td>\n",
       "      <td>0.6761</td>\n",
       "    </tr>\n",
       "    <tr>\n",
       "      <th>0.7</th>\n",
       "      <td>0.5800</td>\n",
       "      <td>0.6467</td>\n",
       "    </tr>\n",
       "    <tr>\n",
       "      <th>0.8</th>\n",
       "      <td>0.5753</td>\n",
       "      <td>0.6373</td>\n",
       "    </tr>\n",
       "    <tr>\n",
       "      <th>0.9</th>\n",
       "      <td>0.5295</td>\n",
       "      <td>0.5939</td>\n",
       "    </tr>\n",
       "    <tr>\n",
       "      <th>1.0</th>\n",
       "      <td>0.4430</td>\n",
       "      <td>0.5325</td>\n",
       "    </tr>\n",
       "  </tbody>\n",
       "</table>\n",
       "</div>"
      ],
      "text/plain": [
       "                     GCN    RGCN\n",
       "Noise Edge Ratio                \n",
       "0.0               0.8151  0.8042\n",
       "0.1               0.7862  0.7773\n",
       "0.2               0.7583  0.7510\n",
       "0.3               0.7291  0.7334\n",
       "0.4               0.7054  0.6942\n",
       "0.5               0.6730  0.6914\n",
       "0.6               0.6284  0.6761\n",
       "0.7               0.5800  0.6467\n",
       "0.8               0.5753  0.6373\n",
       "0.9               0.5295  0.5939\n",
       "1.0               0.4430  0.5325"
      ]
     },
     "execution_count": 10,
     "metadata": {},
     "output_type": "execute_result"
    }
   ],
   "source": [
    "df = pd.DataFrame(results, columns=['GCN', 'RGCN'], index=ratios)\n",
    "df.index.name = 'Noise Edge Ratio'\n",
    "df"
   ]
  },
  {
   "cell_type": "code",
   "execution_count": 11,
   "metadata": {},
   "outputs": [],
   "source": [
    "!mkdir -p img"
   ]
  },
  {
   "cell_type": "code",
   "execution_count": 12,
   "metadata": {},
   "outputs": [
    {
     "data": {
      "image/png": "[encoded data removed]",
      "text/plain": [
       "<Figure size 432x288 with 1 Axes>"
      ]
     },
     "metadata": {
      "needs_background": "light"
     },
     "output_type": "display_data"
    }
   ],
   "source": [
    "ax = df.plot()\n",
    "ax.set_ylabel('Accuracy')\n",
    "plt.savefig('img/plot.png')\n",
    "plt.savefig('img/plot.pdf')"
   ]
  },
  {
   "cell_type": "markdown",
   "metadata": {},
   "source": [
    " "
   ]
  }
 ],
 "metadata": {
  "kernelspec": {
   "display_name": "Python 3",
   "language": "python",
   "name": "python3"
  },
  "language_info": {
   "codemirror_mode": {
    "name": "ipython",
    "version": 3
   },
   "file_extension": ".py",
   "mimetype": "text/x-python",
   "name": "python",
   "nbconvert_exporter": "python",
   "pygments_lexer": "ipython3",
   "version": "3.7.3"
  }
 },
 "nbformat": 4,
 "nbformat_minor": 2
}
